{
 "cells": [
  {
   "cell_type": "code",
   "execution_count": 1,
   "id": "5db044b7-358d-40d4-a92b-053228452e6b",
   "metadata": {},
   "outputs": [],
   "source": [
    "import os, sys\n",
    "import pandas as pd\n",
    "import numpy as np\n",
    "import scipy\n",
    "import matplotlib.pyplot as plt\n",
    "import plotly.express as px\n",
    "\n",
    "from ipywidgets import interact, interactive, fixed, interact_manual\n",
    "import ipywidgets as widgets"
   ]
  },
  {
   "cell_type": "markdown",
   "id": "fa6c975e-d07b-4d0a-8891-0c7835f1df71",
   "metadata": {},
   "source": [
    "## Loading"
   ]
  },
  {
   "cell_type": "code",
   "execution_count": 2,
   "id": "daedf81d-87fd-40d7-b2c8-a52099a950a0",
   "metadata": {},
   "outputs": [],
   "source": [
    "csv_files_path = './dataset_eeg_cafe2022/RenamedFiles'\n",
    "csv_files = [file for file in os.listdir(csv_files_path) if '.csv' in file]\n",
    "\n",
    "if len(csv_files) == 0:\n",
    "    print('Sem dados no diretório especificado.')\n",
    "    exit()"
   ]
  },
  {
   "cell_type": "code",
   "execution_count": 3,
   "id": "bd408b7c-6ad5-4a21-9790-f1eaf5cea6dc",
   "metadata": {},
   "outputs": [],
   "source": [
    "def load_dfs(path, files):\n",
    "    dfs = []\n",
    "    for file in files:\n",
    "        df = pd.read_csv(f'{path}/{file}', delimiter=',')\n",
    "        dfs.append(df)\n",
    "        \n",
    "    return dfs"
   ]
  },
  {
   "cell_type": "code",
   "execution_count": 4,
   "id": "49f44a05-3454-4baa-9f3d-bb65301e785a",
   "metadata": {},
   "outputs": [],
   "source": [
    "dfs = load_dfs(csv_files_path, csv_files)"
   ]
  },
  {
   "cell_type": "code",
   "execution_count": 5,
   "id": "c1c568ac-d4aa-41ea-a7c5-687d6a87b219",
   "metadata": {},
   "outputs": [
    {
     "data": {
      "text/plain": [
       "['Fp1', 'Fp2', 'C3', 'C4', 'P7', 'P8', 'O1', 'O2']"
      ]
     },
     "execution_count": 5,
     "metadata": {},
     "output_type": "execute_result"
    }
   ],
   "source": [
    "channels = dfs[0].columns.to_list()[2:10]\n",
    "channels"
   ]
  },
  {
   "cell_type": "code",
   "execution_count": 6,
   "id": "067ec4f1-6c37-43cc-9d1a-96e5d2d00b5c",
   "metadata": {},
   "outputs": [],
   "source": [
    "def plot_signal(file, channel):\n",
    "    df = pd.read_csv(f'{csv_files_path}/{file}', delimiter=',')\n",
    "    t = df['Timestamp'].to_numpy()\n",
    "    c = df[channel].to_numpy()\n",
    "    fig = px.line(x=t, y=c)\n",
    "    fig.show()\n",
    "    print(t.max())"
   ]
  },
  {
   "cell_type": "code",
   "execution_count": 7,
   "id": "46967fd9-0447-463f-b134-926454402946",
   "metadata": {},
   "outputs": [
    {
     "data": {
      "application/vnd.jupyter.widget-view+json": {
       "model_id": "133f0ceae888485885606752b675b397",
       "version_major": 2,
       "version_minor": 0
      },
      "text/plain": [
       "interactive(children=(Dropdown(description='file', options=('react_12.csv', 'seq_9.csv', 'cafe-2_16.csv', 'alp…"
      ]
     },
     "metadata": {},
     "output_type": "display_data"
    },
    {
     "data": {
      "text/plain": [
       "<function __main__.plot_signal(file, channel)>"
      ]
     },
     "execution_count": 7,
     "metadata": {},
     "output_type": "execute_result"
    }
   ],
   "source": [
    "interact(plot_signal, file=csv_files, channel=channels)"
   ]
  },
  {
   "cell_type": "code",
   "execution_count": null,
   "id": "489b6eec-f2b8-4da4-8ee5-dc3adf8a7377",
   "metadata": {},
   "outputs": [],
   "source": []
  }
 ],
 "metadata": {
  "kernelspec": {
   "display_name": "eeg",
   "language": "python",
   "name": "eeg"
  },
  "language_info": {
   "codemirror_mode": {
    "name": "ipython",
    "version": 3
   },
   "file_extension": ".py",
   "mimetype": "text/x-python",
   "name": "python",
   "nbconvert_exporter": "python",
   "pygments_lexer": "ipython3",
   "version": "3.8.16"
  }
 },
 "nbformat": 4,
 "nbformat_minor": 5
}
