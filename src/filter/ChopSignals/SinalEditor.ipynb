{
 "cells": [
  {
   "cell_type": "code",
   "execution_count": 1,
   "id": "345d661a-6fdb-49c5-b645-fb232a4675bd",
   "metadata": {
    "tags": []
   },
   "outputs": [],
   "source": [
    "import os, sys\n",
    "import pandas as pd\n",
    "import numpy as np\n",
    "import plotly.express as px\n",
    "import ipywidgets as widgets\n",
    "from IPython.display import display"
   ]
  },
  {
   "cell_type": "code",
   "execution_count": 2,
   "id": "049510ba-e857-4d56-b2b8-2917b258a2e8",
   "metadata": {
    "tags": []
   },
   "outputs": [],
   "source": [
    "#Altere o Path\n",
    "files_path = '../../../dataset_eeg_cafe2022/RenamedFiles'\n",
    "channels = ['Fp1', 'Fp2', 'C3', 'C4', 'P7', 'P8', 'O1', 'O2']"
   ]
  },
  {
   "cell_type": "code",
   "execution_count": 7,
   "id": "6bf5dce2-0cee-4b5f-b43d-d72087d4c1e9",
   "metadata": {
    "tags": []
   },
   "outputs": [],
   "source": [
    "files = [file for file in os.listdir(files_path) if '.csv' in file]\n",
    "if len(files) == 0:\n",
    "    print('Sem dados no diretório especificado.')\n",
    "    exit()"
   ]
  },
  {
   "cell_type": "code",
   "execution_count": 8,
   "id": "311341ca-2c37-4952-a897-01ff9a0cc21b",
   "metadata": {
    "tags": []
   },
   "outputs": [],
   "source": [
    "def plot_signal(file, channel, window):\n",
    "    df = pd.read_csv(f'{files_path}/{file}', delimiter=',')\n",
    "    timestamps = df['Timestamp'].to_numpy()\n",
    "    channel_data = df[channel].to_numpy()\n",
    "    fig = px.line(x=timestamps, y=channel_data)\n",
    "    fig.show()"
   ]
  },
  {
   "cell_type": "code",
   "execution_count": 22,
   "id": "5fe6ca23-7cb7-4a8c-828c-4217d5563a5f",
   "metadata": {
    "tags": []
   },
   "outputs": [
    {
     "data": {
      "application/vnd.jupyter.widget-view+json": {
       "model_id": "d224434d36e54f50bfa6ae8c0cb53f60",
       "version_major": 2,
       "version_minor": 0
      },
      "text/plain": [
       "VBox(children=(HBox(children=(Combobox(value='alpha_1.csv', description='Arquivo', options=('alpha_1.csv', 'al…"
      ]
     },
     "execution_count": 22,
     "metadata": {},
     "output_type": "execute_result"
    }
   ],
   "source": [
    "window_widget = widgets.IntSlider(min=1, max=1000, step=10, value=512)\n",
    "file_widget = widgets.Combobox(options=files, value=files[0], description='Arquivo')\n",
    "channel_widget = widgets.Dropdown(options=channels, value=channels[0], description='Canal')\n",
    "widgets_box = widgets.HBox([file_widget, channel_widget, window_widget])\n",
    "\n",
    "out = widgets.interactive_output(plot_signal, {'file': file_widget, 'channel': channel_widget, 'window': window_widget})\n",
    "\n",
    "bottonLimit_widget = widgets.IntText(layout=widgets.Layout(width='100px'))\n",
    "topLimit_widget = widgets.IntText(layout=widgets.Layout(width='100px'))\n",
    "saveIntervalButton_widget = widgets.Button(description='Save', layout=widgets.Layout(width='50px'))\n",
    "choppingIntervals_widget = widgets.HBox([bottonLimit_widget, topLimit_widget, saveIntervalButton_widget])\n",
    "\n",
    "widgets.VBox([widgets_box, out,choppingIntervals_widget])"
   ]
  }
 ],
 "metadata": {
  "kernelspec": {
   "display_name": "Python 3 (ipykernel)",
   "language": "python",
   "name": "python3"
  },
  "language_info": {
   "codemirror_mode": {
    "name": "ipython",
    "version": 3
   },
   "file_extension": ".py",
   "mimetype": "text/x-python",
   "name": "python",
   "nbconvert_exporter": "python",
   "pygments_lexer": "ipython3",
   "version": "3.8.16"
  }
 },
 "nbformat": 4,
 "nbformat_minor": 5
}
