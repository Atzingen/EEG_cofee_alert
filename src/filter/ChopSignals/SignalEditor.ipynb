{
 "cells": [
  {
   "cell_type": "markdown",
   "id": "5f631126-1932-4dd8-814a-89a5570ff697",
   "metadata": {
    "tags": []
   },
   "source": [
    "# Signal Editor"
   ]
  },
  {
   "cell_type": "markdown",
   "id": "0e43b1a2-ebac-469f-ba6e-df85310d20da",
   "metadata": {},
   "source": [
    "#### TODO\n",
    "Adicionar uma feature de pop intervalo <br>"
   ]
  },
  {
   "cell_type": "markdown",
   "id": "37c91aab-4b90-4db0-a401-ca957fd6fce4",
   "metadata": {},
   "source": [
    "## Importando módulos"
   ]
  },
  {
   "cell_type": "code",
   "execution_count": 2,
   "id": "6628f5bb-0417-4602-b992-e57f7945ec92",
   "metadata": {
    "tags": []
   },
   "outputs": [],
   "source": [
    "import os\n",
    "import ipywidgets as widgets\n",
    "from intervals import Intervals\n",
    "from signalPlotter import SignalPlotter"
   ]
  },
  {
   "cell_type": "markdown",
   "id": "92af34b7-28f8-446f-aec4-4a0ab24860c4",
   "metadata": {},
   "source": [
    "## Variáveis globais para o diretório dos dados e os canais"
   ]
  },
  {
   "cell_type": "code",
   "execution_count": 3,
   "id": "049510ba-e857-4d56-b2b8-2917b258a2e8",
   "metadata": {
    "tags": []
   },
   "outputs": [],
   "source": [
    "files_path = '../../../dataset_eeg_cafe2022/RenamedFiles'\n",
    "channels = ['Fp1', 'Fp2', 'C3', 'C4', 'P7', 'P8', 'O1', 'O2']"
   ]
  },
  {
   "cell_type": "markdown",
   "id": "56d0d11e-f6c0-496c-9828-7566fe826118",
   "metadata": {
    "tags": []
   },
   "source": [
    "## Recuperando arquivos de sinal"
   ]
  },
  {
   "cell_type": "code",
   "execution_count": 4,
   "id": "6bf5dce2-0cee-4b5f-b43d-d72087d4c1e9",
   "metadata": {
    "tags": []
   },
   "outputs": [],
   "source": [
    "files = [file for file in os.listdir(files_path) if '.csv' in file]\n",
    "\n",
    "if len(files) == 0:\n",
    "    print('Sem dados no diretório especificado.')\n",
    "    exit()"
   ]
  },
  {
   "cell_type": "markdown",
   "id": "c5e3870a-af4d-4809-844f-63393ff9b5d9",
   "metadata": {},
   "source": [
    "## Crinado flags para o estado dos widgets de arquivo e canal"
   ]
  },
  {
   "cell_type": "code",
   "execution_count": 5,
   "id": "8fa76714-455c-4792-8991-1ee4f7875ba8",
   "metadata": {
    "tags": []
   },
   "outputs": [],
   "source": [
    "file_widget_changed = False\n",
    "channel_widget_changed = False"
   ]
  },
  {
   "cell_type": "markdown",
   "id": "051ceea6-fef3-4e43-a806-6bf464689fea",
   "metadata": {},
   "source": [
    "## Criando widget de output"
   ]
  },
  {
   "cell_type": "code",
   "execution_count": 6,
   "id": "8c15aa84-c213-4e05-9780-efef354f16d4",
   "metadata": {
    "tags": []
   },
   "outputs": [],
   "source": [
    "output = widgets.Output()"
   ]
  },
  {
   "cell_type": "markdown",
   "id": "d49ef8f5-0330-47ad-87f9-bf315d241f09",
   "metadata": {},
   "source": [
    "## Criando instâncias das classes SignalPlotter e Intervals"
   ]
  },
  {
   "cell_type": "code",
   "execution_count": 7,
   "id": "3a980493-af33-487b-980a-a43f7c2f3d8d",
   "metadata": {
    "tags": []
   },
   "outputs": [],
   "source": [
    "intervalsObject = Intervals(files_path)\n",
    "signalPlotterObject = SignalPlotter(files_path,output)"
   ]
  },
  {
   "cell_type": "markdown",
   "id": "722b36ce-81b5-4dcd-bce8-ee3a55215cf4",
   "metadata": {
    "tags": []
   },
   "source": [
    "## Criando os widgets"
   ]
  },
  {
   "cell_type": "markdown",
   "id": "d46f1bd2-c3d9-4059-a8d2-35e864f7db10",
   "metadata": {},
   "source": [
    "#### Widgets para configurar o sinal"
   ]
  },
  {
   "cell_type": "code",
   "execution_count": 8,
   "id": "caf246dc-655e-46a8-944a-8ab691b326aa",
   "metadata": {
    "tags": []
   },
   "outputs": [],
   "source": [
    "file_widget = widgets.Combobox(options = files, value = files[0], description = 'Arquivo')\n",
    "channel_widget = widgets.Dropdown(options = channels, value = channels[0], description = 'Canal')\n",
    "refreshButton_widget = widgets.Button(description = 'Refresh', layout = widgets.Layout(width = '70px'))\n",
    "\n",
    "signalControler_widget = widgets.HBox([file_widget, channel_widget, refreshButton_widget])"
   ]
  },
  {
   "cell_type": "markdown",
   "id": "d299f163-4ed0-4043-9086-2c0fc6623497",
   "metadata": {},
   "source": [
    "#### Widgets para lidar com os intervalos de corte"
   ]
  },
  {
   "cell_type": "code",
   "execution_count": 9,
   "id": "5fe6ca23-7cb7-4a8c-828c-4217d5563a5f",
   "metadata": {
    "tags": []
   },
   "outputs": [],
   "source": [
    "label_widget = widgets.Label(value = 'Intervalo de corte')\n",
    "bottonLimit_widget = widgets.FloatText(layout = widgets.Layout(width='100px'))\n",
    "topLimit_widget = widgets.FloatText(layout = widgets.Layout(width='100px'))\n",
    "addIntervalButton_widget = widgets.Button(description = 'Add', layout = widgets.Layout(width = '50px'))\n",
    "saveIntervalButton_widget = widgets.Button(description = 'Save', layout = widgets.Layout(width = '50px'))\n",
    "#Criar um pop interval\n",
    "\n",
    "choppingIntervals_widget = widgets.HBox([label_widget, bottonLimit_widget, topLimit_widget, addIntervalButton_widget, saveIntervalButton_widget])"
   ]
  },
  {
   "cell_type": "markdown",
   "id": "1aed9ee0-2892-44ed-b909-19f532938059",
   "metadata": {},
   "source": [
    "## Definindo eventos"
   ]
  },
  {
   "cell_type": "markdown",
   "id": "be82df06-7b19-49f4-9613-f2e5f7900472",
   "metadata": {},
   "source": [
    "#### Handlers para monitorar os widgets de arquivo e canal"
   ]
  },
  {
   "cell_type": "code",
   "execution_count": 10,
   "id": "eb3e5c62-7560-4154-8813-a888caef5506",
   "metadata": {
    "tags": []
   },
   "outputs": [],
   "source": [
    "def file_widget_change_handler(change):\n",
    "    global file_widget_changed\n",
    "    if change['type'] == 'change' and change['name'] == 'value':\n",
    "        file_widget_changed = True"
   ]
  },
  {
   "cell_type": "code",
   "execution_count": 11,
   "id": "909bb235-dc3c-414d-8683-cd1f39971dc3",
   "metadata": {
    "tags": []
   },
   "outputs": [],
   "source": [
    "def channel_widget_change_handler(change):\n",
    "    global channel_widget_changed\n",
    "    if change['type'] == 'change' and change['name'] == 'value':\n",
    "        channel_widget_changed = True "
   ]
  },
  {
   "cell_type": "markdown",
   "id": "47e7e5f5-0542-4395-9d17-fbc3c6e7f67d",
   "metadata": {},
   "source": [
    "#### Eventos de click"
   ]
  },
  {
   "cell_type": "code",
   "execution_count": 12,
   "id": "af1b450d-2cd9-4c03-b80d-a52a3aa8c496",
   "metadata": {
    "tags": []
   },
   "outputs": [],
   "source": [
    "def refresh_button_clicked(btn):\n",
    "    global file_widget_changed\n",
    "    global channel_widget_changed\n",
    "    # é possível validar dados antes de alterar os objetos\n",
    "    if file_widget_changed:\n",
    "        intervalsObject.save_cutting_intervals()\n",
    "        intervalsObject.load_cutting_intervals(file_widget.value)\n",
    "        signalPlotterObject.load_signal(file_widget.value, channel_widget.value)\n",
    "        signalPlotterObject.plot_signal(intervalsObject.get_cutting_intervals(channel_widget.value))\n",
    "        file_widget_changed = False\n",
    "    elif channel_widget_changed:\n",
    "        signalPlotterObject.change_current_fig(channel_widget.value)\n",
    "        signalPlotterObject.plot_signal(intervalsObject.get_cutting_intervals(channel_widget.value))\n",
    "        channel_widget_changed = False"
   ]
  },
  {
   "cell_type": "code",
   "execution_count": 13,
   "id": "5066a41a-fe6d-4416-9c29-9ac7d47df7e8",
   "metadata": {
    "tags": []
   },
   "outputs": [],
   "source": [
    "def add_intervals_clicked(btn):\n",
    "    start = bottonLimit_widget.value\n",
    "    end = topLimit_widget.value\n",
    "    intervalsObject.add_interval(channel_widget.value, start, end)\n",
    "    signalPlotterObject.plot_signal(intervalsObject.get_cutting_intervals(channel_widget.value))"
   ]
  },
  {
   "cell_type": "code",
   "execution_count": 14,
   "id": "2361e97e-160d-47d5-9c32-1c6d5c329510",
   "metadata": {
    "tags": []
   },
   "outputs": [],
   "source": [
    "def save_intervals_clicked(btn):\n",
    "    intervalsObject.save_cutting_intervals()"
   ]
  },
  {
   "cell_type": "markdown",
   "id": "0135768c-9cb5-4b4a-ac5a-959769971fce",
   "metadata": {},
   "source": [
    "## Associando widgets aos seus eventos"
   ]
  },
  {
   "cell_type": "code",
   "execution_count": 15,
   "id": "0e4ca424-d739-4bfb-b7e9-f6197f8322a9",
   "metadata": {
    "tags": []
   },
   "outputs": [],
   "source": [
    "file_widget.observe(file_widget_change_handler)\n",
    "channel_widget.observe(channel_widget_change_handler)\n",
    "\n",
    "refreshButton_widget.on_click(refresh_button_clicked)\n",
    "addIntervalButton_widget.on_click(add_intervals_clicked)\n",
    "saveIntervalButton_widget.on_click(save_intervals_clicked)"
   ]
  },
  {
   "cell_type": "markdown",
   "id": "cf7748d2-3e1f-4801-bc53-45e97f18772f",
   "metadata": {},
   "source": [
    "## Main"
   ]
  },
  {
   "cell_type": "code",
   "execution_count": 16,
   "id": "a01f5abf-904e-44b1-9d8b-9b4a249fbdf3",
   "metadata": {
    "tags": []
   },
   "outputs": [
    {
     "data": {
      "application/vnd.jupyter.widget-view+json": {
       "model_id": "34545668857e46169782906360b1de2a",
       "version_major": 2,
       "version_minor": 0
      },
      "text/plain": [
       "HBox(children=(Combobox(value='alpha_1.csv', description='Arquivo', options=('alpha_1.csv', 'alpha_10.csv', 'a…"
      ]
     },
     "metadata": {},
     "output_type": "display_data"
    },
    {
     "data": {
      "application/vnd.jupyter.widget-view+json": {
       "model_id": "f5472647269e431a8fa4bb62db4117e4",
       "version_major": 2,
       "version_minor": 0
      },
      "text/plain": [
       "Output()"
      ]
     },
     "metadata": {},
     "output_type": "display_data"
    },
    {
     "data": {
      "application/vnd.jupyter.widget-view+json": {
       "model_id": "f04ca90b2c9840a5822e91bf6c12d75f",
       "version_major": 2,
       "version_minor": 0
      },
      "text/plain": [
       "HBox(children=(Label(value='Intervalo de corte'), FloatText(value=0.0, layout=Layout(width='100px')), FloatTex…"
      ]
     },
     "metadata": {},
     "output_type": "display_data"
    }
   ],
   "source": [
    "intervalsObject.load_cutting_intervals(file_widget.value)\n",
    "signalPlotterObject.load_signal(file_widget.value, channel_widget.value)\n",
    "signalPlotterObject.plot_signal(intervalsObject.get_cutting_intervals(channel_widget.value))\n",
    "\n",
    "display(signalControler_widget, output, choppingIntervals_widget)"
   ]
  }
 ],
 "metadata": {
  "kernelspec": {
   "display_name": "eeg",
   "language": "python",
   "name": "eegkernel"
  },
  "language_info": {
   "codemirror_mode": {
    "name": "ipython",
    "version": 3
   },
   "file_extension": ".py",
   "mimetype": "text/x-python",
   "name": "python",
   "nbconvert_exporter": "python",
   "pygments_lexer": "ipython3",
   "version": "3.8.16"
  }
 },
 "nbformat": 4,
 "nbformat_minor": 5
}
