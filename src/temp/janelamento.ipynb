{
 "cells": [
  {
   "cell_type": "code",
   "execution_count": 1,
   "metadata": {},
   "outputs": [],
   "source": [
    "import os, sys\n",
    "import pandas as pd\n",
    "import numpy as np\n",
    "import scipy\n",
    "import matplotlib.pyplot as plt\n",
    "import plotly.express as px\n",
    "\n",
    "from ipywidgets import interact, interactive, fixed, interact_manual\n",
    "import ipywidgets as widgets"
   ]
  },
  {
   "cell_type": "code",
   "execution_count": 2,
   "metadata": {},
   "outputs": [],
   "source": [
    "csv_files_path = './dataset_eeg_cafe2022/RenamedFiles'\n",
    "csv_files = [file for file in os.listdir(csv_files_path) if '.csv' in file]\n",
    "\n",
    "if len(csv_files) == 0:\n",
    "    print('Sem dados no diretório especificado.')\n",
    "    exit()"
   ]
  },
  {
   "cell_type": "code",
   "execution_count": 3,
   "metadata": {},
   "outputs": [
    {
     "data": {
      "text/plain": [
       "['alpha_9.csv',\n",
       " 'chimp_2.csv',\n",
       " 'alpha_12.csv',\n",
       " 'cafe-2_10.csv',\n",
       " 'seq_10.csv',\n",
       " 'cafe-2_14.csv',\n",
       " 'seq_9.csv',\n",
       " 'cafe-1_4.csv',\n",
       " 'cafe-2_8.csv',\n",
       " 'react_14.csv',\n",
       " 'cafe-1_5.csv',\n",
       " 'cafe-1_19.csv',\n",
       " 'seq_21.csv',\n",
       " 'cafe-2_2.csv',\n",
       " 'react_1.csv',\n",
       " 'cafe-2_11.csv',\n",
       " 'alpha_1.csv',\n",
       " 'alpha_19.csv',\n",
       " 'cafe-1_10.csv',\n",
       " 'chimp_11.csv',\n",
       " 'cafe-1_9.csv',\n",
       " 'seq_6.csv',\n",
       " 'cafe-1_13.csv',\n",
       " 'cafe-1_18.csv',\n",
       " 'cafe-2_18.csv',\n",
       " 'cafe-2_1.csv',\n",
       " 'seq_11.csv',\n",
       " 'cafe-1_17.csv',\n",
       " 'alpha_6.csv',\n",
       " 'chimp_14.csv',\n",
       " 'react_6.csv',\n",
       " 'cafe-2_4.csv',\n",
       " 'cafe-2_17.csv',\n",
       " 'cafe-1_8.csv',\n",
       " 'cafe-2_5.csv',\n",
       " 'cafe-2_3.csv',\n",
       " 'cafe-2_12.csv',\n",
       " 'chimp_1.csv',\n",
       " 'react_11.csv',\n",
       " 'react_10.csv',\n",
       " 'seq_19.csv',\n",
       " 'react_5.csv',\n",
       " 'cafe-2_9.csv',\n",
       " 'cafe-2_13.csv',\n",
       " 'chimp_10.csv',\n",
       " 'seq_8.csv',\n",
       " 'seq_7.csv',\n",
       " 'react_4.csv',\n",
       " 'chimp_17.csv',\n",
       " 'alpha_16.csv',\n",
       " 'alpha_3.csv',\n",
       " 'chimp_9.csv',\n",
       " 'alpha_14.csv',\n",
       " 'alpha_5.csv',\n",
       " 'react_3.csv',\n",
       " 'seq_12.csv',\n",
       " 'alpha_21.csv',\n",
       " 'seq_4.csv',\n",
       " 'seq_5.csv',\n",
       " 'alpha_17.csv',\n",
       " 'react_13.csv',\n",
       " 'chimp_12.csv',\n",
       " 'chimp_8.csv',\n",
       " 'seq_17.csv',\n",
       " 'seq_13.csv',\n",
       " 'alpha_18.csv',\n",
       " 'cafe-2_16.csv',\n",
       " 'alpha_11.csv',\n",
       " 'chimp_3.csv',\n",
       " 'chimp_5.csv',\n",
       " 'cafe-1_11.csv',\n",
       " 'alpha_10.csv',\n",
       " 'cafe-1_12.csv',\n",
       " 'alpha_4.csv',\n",
       " 'cafe-2_7.csv',\n",
       " 'cafe-1_6.csv',\n",
       " 'chimp_4.csv',\n",
       " 'seq_16.csv',\n",
       " 'react_18.csv',\n",
       " 'alpha_7.csv',\n",
       " 'cafe-1_1.csv',\n",
       " 'react_19.csv',\n",
       " 'seq_1.csv',\n",
       " 'react_16.csv',\n",
       " 'cafe-1_16.csv',\n",
       " 'chimp_13.csv',\n",
       " 'chimp_6.csv',\n",
       " 'chimp_7.csv',\n",
       " 'cafe-1_3.csv',\n",
       " 'alpha_8.csv',\n",
       " 'cafe-1_21.csv',\n",
       " 'cafe-2_21.csv',\n",
       " 'react_21.csv',\n",
       " 'react_12.csv',\n",
       " 'seq_3.csv',\n",
       " 'cafe-1_14.csv',\n",
       " 'chimp_18.csv',\n",
       " 'seq_2.csv',\n",
       " 'react_17.csv',\n",
       " 'react_8.csv',\n",
       " 'cafe-2_6.csv',\n",
       " 'chimp_21.csv',\n",
       " 'cafe-1_2.csv',\n",
       " 'chimp_16.csv',\n",
       " 'seq_14.csv',\n",
       " 'react_9.csv',\n",
       " 'react_7.csv',\n",
       " 'cafe-2_19.csv',\n",
       " 'seq_18.csv',\n",
       " 'cafe-1_7.csv',\n",
       " 'chimp_19.csv']"
      ]
     },
     "execution_count": 3,
     "metadata": {},
     "output_type": "execute_result"
    }
   ],
   "source": [
    "csv_files"
   ]
  },
  {
   "cell_type": "code",
   "execution_count": 4,
   "metadata": {},
   "outputs": [
    {
     "data": {
      "text/html": [
       "<div>\n",
       "<style scoped>\n",
       "    .dataframe tbody tr th:only-of-type {\n",
       "        vertical-align: middle;\n",
       "    }\n",
       "\n",
       "    .dataframe tbody tr th {\n",
       "        vertical-align: top;\n",
       "    }\n",
       "\n",
       "    .dataframe thead th {\n",
       "        text-align: right;\n",
       "    }\n",
       "</style>\n",
       "<table border=\"1\" class=\"dataframe\">\n",
       "  <thead>\n",
       "    <tr style=\"text-align: right;\">\n",
       "      <th></th>\n",
       "      <th>Unnamed: 0</th>\n",
       "      <th>Index</th>\n",
       "      <th>Fp1</th>\n",
       "      <th>Fp2</th>\n",
       "      <th>C3</th>\n",
       "      <th>C4</th>\n",
       "      <th>P7</th>\n",
       "      <th>P8</th>\n",
       "      <th>O1</th>\n",
       "      <th>O2</th>\n",
       "      <th>Timestamp</th>\n",
       "    </tr>\n",
       "  </thead>\n",
       "  <tbody>\n",
       "    <tr>\n",
       "      <th>0</th>\n",
       "      <td>0</td>\n",
       "      <td>0.0</td>\n",
       "      <td>-0.000000</td>\n",
       "      <td>-0.000000</td>\n",
       "      <td>-0.000000</td>\n",
       "      <td>-0.000000</td>\n",
       "      <td>-0.000000</td>\n",
       "      <td>-0.000000</td>\n",
       "      <td>-0.000000</td>\n",
       "      <td>-0.000000</td>\n",
       "      <td>0.000000</td>\n",
       "    </tr>\n",
       "    <tr>\n",
       "      <th>1</th>\n",
       "      <td>1</td>\n",
       "      <td>1.0</td>\n",
       "      <td>-133733.943635</td>\n",
       "      <td>-131539.086450</td>\n",
       "      <td>-6371.096917</td>\n",
       "      <td>-144063.160631</td>\n",
       "      <td>54999.961288</td>\n",
       "      <td>-131700.485978</td>\n",
       "      <td>47753.818260</td>\n",
       "      <td>38485.722313</td>\n",
       "      <td>0.002993</td>\n",
       "    </tr>\n",
       "    <tr>\n",
       "      <th>2</th>\n",
       "      <td>2</td>\n",
       "      <td>2.0</td>\n",
       "      <td>-49811.172689</td>\n",
       "      <td>-46441.766220</td>\n",
       "      <td>-55496.160431</td>\n",
       "      <td>-57571.708973</td>\n",
       "      <td>521.059546</td>\n",
       "      <td>-98333.738695</td>\n",
       "      <td>-20709.829539</td>\n",
       "      <td>-32717.961654</td>\n",
       "      <td>0.007032</td>\n",
       "    </tr>\n",
       "    <tr>\n",
       "      <th>3</th>\n",
       "      <td>3</td>\n",
       "      <td>3.0</td>\n",
       "      <td>-105017.499957</td>\n",
       "      <td>-105803.902413</td>\n",
       "      <td>-33016.389667</td>\n",
       "      <td>-104240.338814</td>\n",
       "      <td>30073.062806</td>\n",
       "      <td>-119989.941209</td>\n",
       "      <td>12879.836209</td>\n",
       "      <td>1598.803011</td>\n",
       "      <td>0.010051</td>\n",
       "    </tr>\n",
       "    <tr>\n",
       "      <th>4</th>\n",
       "      <td>4</td>\n",
       "      <td>4.0</td>\n",
       "      <td>-191035.949664</td>\n",
       "      <td>-191928.689828</td>\n",
       "      <td>40018.876501</td>\n",
       "      <td>-193356.172378</td>\n",
       "      <td>84012.637598</td>\n",
       "      <td>-163045.456747</td>\n",
       "      <td>76833.995083</td>\n",
       "      <td>70555.976049</td>\n",
       "      <td>0.013991</td>\n",
       "    </tr>\n",
       "  </tbody>\n",
       "</table>\n",
       "</div>"
      ],
      "text/plain": [
       "   Unnamed: 0  Index            Fp1            Fp2            C3  \\\n",
       "0           0    0.0      -0.000000      -0.000000     -0.000000   \n",
       "1           1    1.0 -133733.943635 -131539.086450  -6371.096917   \n",
       "2           2    2.0  -49811.172689  -46441.766220 -55496.160431   \n",
       "3           3    3.0 -105017.499957 -105803.902413 -33016.389667   \n",
       "4           4    4.0 -191035.949664 -191928.689828  40018.876501   \n",
       "\n",
       "              C4            P7             P8            O1            O2  \\\n",
       "0      -0.000000     -0.000000      -0.000000     -0.000000     -0.000000   \n",
       "1 -144063.160631  54999.961288 -131700.485978  47753.818260  38485.722313   \n",
       "2  -57571.708973    521.059546  -98333.738695 -20709.829539 -32717.961654   \n",
       "3 -104240.338814  30073.062806 -119989.941209  12879.836209   1598.803011   \n",
       "4 -193356.172378  84012.637598 -163045.456747  76833.995083  70555.976049   \n",
       "\n",
       "   Timestamp  \n",
       "0   0.000000  \n",
       "1   0.002993  \n",
       "2   0.007032  \n",
       "3   0.010051  \n",
       "4   0.013991  "
      ]
     },
     "execution_count": 4,
     "metadata": {},
     "output_type": "execute_result"
    }
   ],
   "source": [
    "df = pd.read_csv(f'{csv_files_path}/{csv_files[0]}', delimiter=',')\n",
    "df.head()"
   ]
  },
  {
   "cell_type": "code",
   "execution_count": 5,
   "metadata": {},
   "outputs": [
    {
     "data": {
      "text/plain": [
       "['Fp1', 'Fp2', 'C3', 'C4', 'P7', 'P8', 'O1', 'O2']"
      ]
     },
     "execution_count": 5,
     "metadata": {},
     "output_type": "execute_result"
    }
   ],
   "source": [
    "canais = df.columns.to_list()[2:10]\n",
    "canais"
   ]
  },
  {
   "cell_type": "code",
   "execution_count": 6,
   "metadata": {},
   "outputs": [],
   "source": [
    "t = df['Timestamp'].to_numpy()"
   ]
  },
  {
   "cell_type": "code",
   "execution_count": 7,
   "metadata": {},
   "outputs": [
    {
     "data": {
      "text/plain": [
       "array([0.        , 0.00299287, 0.00703192, 0.01005101, 0.01399088])"
      ]
     },
     "execution_count": 7,
     "metadata": {},
     "output_type": "execute_result"
    }
   ],
   "source": [
    "t[:5]"
   ]
  },
  {
   "cell_type": "code",
   "execution_count": 8,
   "metadata": {},
   "outputs": [
    {
     "data": {
      "text/plain": [
       "233.24470421839632"
      ]
     },
     "execution_count": 8,
     "metadata": {},
     "output_type": "execute_result"
    }
   ],
   "source": [
    "len(t)/t.max()"
   ]
  },
  {
   "cell_type": "code",
   "execution_count": 9,
   "metadata": {},
   "outputs": [],
   "source": [
    "janela_widget = widgets.IntSlider(min=1, max=1000, step=10, value=50)\n",
    "arquivo_widget = widgets.Combobox(options=csv_files, value=csv_files[0], description='Arquivo')\n",
    "canal_widget = widgets.Dropdown(options=canais, value=canais[0], description='Canal')"
   ]
  },
  {
   "cell_type": "code",
   "execution_count": 10,
   "metadata": {},
   "outputs": [],
   "source": [
    "def plot_sinal(arquivo, canal, janela):\n",
    "    delta = 30\n",
    "    df = pd.read_csv(f'{csv_files_path}/{arquivo}', delimiter=',')\n",
    "    t = df['Timestamp'].to_numpy()\n",
    "    c = df[canal].to_numpy()\n",
    "    c_ma = np.convolve(c, np.ones(512)/512, mode='valid')\n",
    "    c_der = 100*(c_ma[:-delta] - c_ma[delta:])/delta\n",
    "    fig = px.line(x=t[:len(c_der)], y=[c[:len(c_der)], c_ma[:len(c_der)], c_der])\n",
    "    fig.update_yaxes(range=[c_ma[10]-5E3,c_ma[10]+5E3])\n",
    "    fig.show()\n",
    "\n",
    "    print(t.max())"
   ]
  },
  {
   "cell_type": "code",
   "execution_count": 11,
   "metadata": {},
   "outputs": [],
   "source": [
    "out = widgets.interactive_output(plot_sinal, \n",
    "                                 {'arquivo': arquivo_widget, \n",
    "                                  'canal': canal_widget, \n",
    "                                  'janela': janela_widget})"
   ]
  },
  {
   "cell_type": "code",
   "execution_count": 12,
   "metadata": {},
   "outputs": [
    {
     "data": {
      "application/vnd.jupyter.widget-view+json": {
       "model_id": "c349f65302c54e31b302c26b09a9ded6",
       "version_major": 2,
       "version_minor": 0
      },
      "text/plain": [
       "VBox(children=(HBox(children=(Combobox(value='alpha_9.csv', description='Arquivo', options=('alpha_9.csv', 'ch…"
      ]
     },
     "metadata": {},
     "output_type": "display_data"
    }
   ],
   "source": [
    "widgets.VBox([widgets.HBox([arquivo_widget, canal_widget, janela_widget]), out])"
   ]
  },
  {
   "cell_type": "markdown",
   "metadata": {},
   "source": [
    "## TODO reunião (26/01)\n",
    "\n",
    "* Criar um novo csv arrumado\n",
    "    * Arrumar a escala de tempo de todos os dados\n",
    "    * remover todos os other (canais e tempo)\n",
    "    * remover parte (ou total) de sinais com ruido"
   ]
  }
 ],
 "metadata": {
  "kernelspec": {
   "display_name": "eeg",
   "language": "python",
   "name": "eeg"
  },
  "language_info": {
   "codemirror_mode": {
    "name": "ipython",
    "version": 3
   },
   "file_extension": ".py",
   "mimetype": "text/x-python",
   "name": "python",
   "nbconvert_exporter": "python",
   "pygments_lexer": "ipython3",
   "version": "3.8.16"
  },
  "vscode": {
   "interpreter": {
    "hash": "ce455c82e2d4a2c0f8f063d384d0034d3bbeef7aa178da1a4761a4f8f4de2396"
   }
  }
 },
 "nbformat": 4,
 "nbformat_minor": 4
}
