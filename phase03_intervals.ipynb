{
 "cells": [
  {
   "cell_type": "markdown",
   "id": "5f631126-1932-4dd8-814a-89a5570ff697",
   "metadata": {
    "tags": []
   },
   "source": [
    "# Fase 3 - *Intervals*\n",
    "## Definição dos intervalos de corte para cada arquivo"
   ]
  },
  {
   "cell_type": "code",
   "execution_count": 6,
   "id": "6628f5bb-0417-4602-b992-e57f7945ec92",
   "metadata": {
    "tags": []
   },
   "outputs": [],
   "source": [
    "import os\n",
    "import ipywidgets as widgets\n",
    "from src.setup.Paths import Paths\n",
    "from src.data.trunc_intervals import TruncIntervals\n",
    "from src.data.signal_handler import Plotter"
   ]
  },
  {
   "cell_type": "markdown",
   "id": "92af34b7-28f8-446f-aec4-4a0ab24860c4",
   "metadata": {},
   "source": [
    "### Definição dos caminhos dos recursos e dos canais de dados utilizados"
   ]
  },
  {
   "cell_type": "code",
   "execution_count": 7,
   "id": "049510ba-e857-4d56-b2b8-2917b258a2e8",
   "metadata": {
    "tags": []
   },
   "outputs": [],
   "source": [
    "files_path = Paths.get_resource_path(Paths.Resources.FORMATTED)\n",
    "trunc_intervals_path = Paths.get_resource_path(Paths.Resources.TRUNC_JSONS)\n",
    "channels = ['Fp1', 'Fp2', 'C3', 'C4', 'P7', 'P8', 'O1', 'O2']"
   ]
  },
  {
   "cell_type": "markdown",
   "id": "56d0d11e-f6c0-496c-9828-7566fe826118",
   "metadata": {
    "tags": []
   },
   "source": [
    "### Recuperando arquivos de sinal em `FORMATTED`"
   ]
  },
  {
   "cell_type": "code",
   "execution_count": 8,
   "id": "6bf5dce2-0cee-4b5f-b43d-d72087d4c1e9",
   "metadata": {
    "tags": []
   },
   "outputs": [],
   "source": [
    "csv_filenames = [file for file in os.listdir(files_path) if '.csv' in file]\n",
    "\n",
    "if len(csv_filenames) == 0:\n",
    "    print('Sem dados no diretório especificado.')\n",
    "    exit()"
   ]
  },
  {
   "cell_type": "markdown",
   "id": "722b36ce-81b5-4dcd-bce8-ee3a55215cf4",
   "metadata": {
    "tags": []
   },
   "source": [
    "### Criação dos widgets"
   ]
  },
  {
   "cell_type": "markdown",
   "id": "c5e3870a-af4d-4809-844f-63393ff9b5d9",
   "metadata": {},
   "source": [
    "#### Criação de flags de estado dos widgets de arquivo e canal"
   ]
  },
  {
   "cell_type": "code",
   "execution_count": 9,
   "id": "8fa76714-455c-4792-8991-1ee4f7875ba8",
   "metadata": {
    "tags": []
   },
   "outputs": [],
   "source": [
    "file_widget_changed = False\n",
    "channel_widget_changed = False"
   ]
  },
  {
   "cell_type": "markdown",
   "id": "051ceea6-fef3-4e43-a806-6bf464689fea",
   "metadata": {},
   "source": [
    "#### Criação do widget de output"
   ]
  },
  {
   "cell_type": "code",
   "execution_count": 10,
   "id": "8c15aa84-c213-4e05-9780-efef354f16d4",
   "metadata": {
    "tags": []
   },
   "outputs": [],
   "source": [
    "output = widgets.Output()"
   ]
  },
  {
   "cell_type": "markdown",
   "id": "d46f1bd2-c3d9-4059-a8d2-35e864f7db10",
   "metadata": {},
   "source": [
    "#### Criação dos widgets de seleção de arquivo, canal e botão de refresh"
   ]
  },
  {
   "cell_type": "code",
   "execution_count": 11,
   "id": "caf246dc-655e-46a8-944a-8ab691b326aa",
   "metadata": {
    "tags": []
   },
   "outputs": [],
   "source": [
    "file_w = widgets.Combobox(options = csv_filenames, value = csv_filenames[0], description = 'Arquivo', layout = widgets.Layout(width = '300px'))\n",
    "channel_w = widgets.Dropdown(options = channels, value = channels[0], description = 'Canal', layout = widgets.Layout(width = '300px'))\n",
    "refresh_btn_w = widgets.Button(description = 'Refresh', layout = widgets.Layout(width = '70px'))\n",
    "refresh_btn_w.layout.margin = '0px 0px 0px 50px'\n",
    "\n",
    "signal_controller_hboxw = widgets.HBox([file_w, channel_w, refresh_btn_w])"
   ]
  },
  {
   "cell_type": "markdown",
   "id": "d299f163-4ed0-4043-9086-2c0fc6623497",
   "metadata": {},
   "source": [
    "#### Criação dos widgets para lidar com os intervalos de corte"
   ]
  },
  {
   "cell_type": "code",
   "execution_count": 12,
   "id": "5fe6ca23-7cb7-4a8c-828c-4217d5563a5f",
   "metadata": {
    "tags": []
   },
   "outputs": [],
   "source": [
    "label_w = widgets.Label(value = 'Intervalo de corte')\n",
    "bottom_limit_w = widgets.FloatText(layout = widgets.Layout(width = '100px'))\n",
    "top_limit_w = widgets.FloatText(layout = widgets.Layout(width = '100px'))\n",
    "add_interval_btn_w = widgets.Button(description = 'Add', layout = widgets.Layout(width = '70px'))\n",
    "pop_interval_btn_w = widgets.Button(description = 'Pop', layout = widgets.Layout(width = '70px'))\n",
    "save_interval_btn_w = widgets.Button(description = 'Save', layout = widgets.Layout(width = '70px'))\n",
    "\n",
    "trunc_intervals_hboxw = widgets.HBox([label_w, bottom_limit_w, top_limit_w, add_interval_btn_w, \n",
    "                                         pop_interval_btn_w, save_interval_btn_w], layout=widgets.Layout(justify_content='center'))"
   ]
  },
  {
   "cell_type": "markdown",
   "id": "d49ef8f5-0330-47ad-87f9-bf315d241f09",
   "metadata": {},
   "source": [
    "### Instanciando as classes `TruncIntervals` e `Plotter`"
   ]
  },
  {
   "cell_type": "code",
   "execution_count": 13,
   "id": "3a980493-af33-487b-980a-a43f7c2f3d8d",
   "metadata": {
    "tags": []
   },
   "outputs": [],
   "source": [
    "trunc_intervals = TruncIntervals(trunc_intervals_path)\n",
    "plotter = Plotter(files_path, output)"
   ]
  },
  {
   "cell_type": "markdown",
   "id": "1aed9ee0-2892-44ed-b909-19f532938059",
   "metadata": {},
   "source": [
    "### Definição de eventos"
   ]
  },
  {
   "cell_type": "markdown",
   "id": "be82df06-7b19-49f4-9613-f2e5f7900472",
   "metadata": {},
   "source": [
    "#### Handlers para monitoramento dos widgets de arquivo e canal"
   ]
  },
  {
   "cell_type": "code",
   "execution_count": 14,
   "id": "eb3e5c62-7560-4154-8813-a888caef5506",
   "metadata": {
    "tags": []
   },
   "outputs": [],
   "source": [
    "def file_widget_change_handler(change):\n",
    "    global file_widget_changed\n",
    "    if change['type'] == 'change' and change['name'] == 'value':\n",
    "        file_widget_changed = True"
   ]
  },
  {
   "cell_type": "code",
   "execution_count": 15,
   "id": "909bb235-dc3c-414d-8683-cd1f39971dc3",
   "metadata": {
    "tags": []
   },
   "outputs": [],
   "source": [
    "def channel_widget_change_handler(change):\n",
    "    global channel_widget_changed\n",
    "    if change['type'] == 'change' and change['name'] == 'value':\n",
    "        channel_widget_changed = True "
   ]
  },
  {
   "cell_type": "markdown",
   "id": "47e7e5f5-0542-4395-9d17-fbc3c6e7f67d",
   "metadata": {},
   "source": [
    "#### Eventos de click"
   ]
  },
  {
   "cell_type": "code",
   "execution_count": 16,
   "id": "af1b450d-2cd9-4c03-b80d-a52a3aa8c496",
   "metadata": {
    "tags": []
   },
   "outputs": [],
   "source": [
    "def refresh_button_clicked(btn):\n",
    "    global file_widget_changed\n",
    "    global channel_widget_changed\n",
    "    if file_widget_changed:\n",
    "        trunc_intervals.save_current_file_intervals()\n",
    "        trunc_intervals.load_file_intervals(file_w.value)\n",
    "        plotter.load_signal(file_w.value, channel_w.value)\n",
    "        plotter.plot_signal(trunc_intervals.get_channel_intervals(channel_w.value))\n",
    "        file_widget_changed = False\n",
    "        channel_widget_changed = False\n",
    "    elif channel_widget_changed:\n",
    "        plotter.change_current_fig(channel_w.value)\n",
    "        plotter.plot_signal(trunc_intervals.get_channel_intervals(channel_w.value))\n",
    "        channel_widget_changed = False"
   ]
  },
  {
   "cell_type": "code",
   "execution_count": 17,
   "id": "5066a41a-fe6d-4416-9c29-9ac7d47df7e8",
   "metadata": {
    "tags": []
   },
   "outputs": [],
   "source": [
    "def add_intervals_clicked(btn):\n",
    "    start = bottom_limit_w.value\n",
    "    end = top_limit_w.value\n",
    "    trunc_intervals.add_interval_by_channel(channel_w.value, start, end)\n",
    "    plotter.plot_signal(trunc_intervals.get_channel_intervals(channel_w.value))"
   ]
  },
  {
   "cell_type": "code",
   "execution_count": 18,
   "id": "53536548-e23a-4d11-8619-3ac015993b3f",
   "metadata": {
    "tags": []
   },
   "outputs": [],
   "source": [
    "def pop_intervals_clicked(btn):\n",
    "    trunc_intervals.pop_interval_by_channel(channel_w.value)\n",
    "    plotter.plot_signal(trunc_intervals.get_channel_intervals(channel_w.value))"
   ]
  },
  {
   "cell_type": "code",
   "execution_count": 19,
   "id": "2361e97e-160d-47d5-9c32-1c6d5c329510",
   "metadata": {
    "tags": []
   },
   "outputs": [],
   "source": [
    "def save_intervals_clicked(btn):\n",
    "    trunc_intervals.save_current_file_intervals()"
   ]
  },
  {
   "cell_type": "markdown",
   "id": "0135768c-9cb5-4b4a-ac5a-959769971fce",
   "metadata": {},
   "source": [
    "### Associação dos widgets aos seus eventos"
   ]
  },
  {
   "cell_type": "code",
   "execution_count": 20,
   "id": "0e4ca424-d739-4bfb-b7e9-f6197f8322a9",
   "metadata": {
    "tags": []
   },
   "outputs": [],
   "source": [
    "file_w.observe(file_widget_change_handler)\n",
    "channel_w.observe(channel_widget_change_handler)\n",
    "\n",
    "refresh_btn_w.on_click(refresh_button_clicked)\n",
    "add_interval_btn_w.on_click(add_intervals_clicked)\n",
    "pop_interval_btn_w.on_click(pop_intervals_clicked)\n",
    "save_interval_btn_w.on_click(save_intervals_clicked)"
   ]
  },
  {
   "cell_type": "markdown",
   "id": "cf7748d2-3e1f-4801-bc53-45e97f18772f",
   "metadata": {},
   "source": [
    "### Display do editor de intervalos"
   ]
  },
  {
   "cell_type": "code",
   "execution_count": 21,
   "id": "a01f5abf-904e-44b1-9d8b-9b4a249fbdf3",
   "metadata": {
    "tags": []
   },
   "outputs": [
    {
     "data": {
      "application/vnd.jupyter.widget-view+json": {
       "model_id": "c20f2ad3ec9b477c8172eb3245e68744",
       "version_major": 2,
       "version_minor": 0
      },
      "text/plain": [
       "HBox(children=(Combobox(value='seq_5.csv', description='Arquivo', layout=Layout(width='300px'), options=('seq_…"
      ]
     },
     "metadata": {},
     "output_type": "display_data"
    },
    {
     "data": {
      "application/vnd.jupyter.widget-view+json": {
       "model_id": "5995de519ed44d8fb7e98da05898f2ed",
       "version_major": 2,
       "version_minor": 0
      },
      "text/plain": [
       "Output()"
      ]
     },
     "metadata": {},
     "output_type": "display_data"
    },
    {
     "data": {
      "application/vnd.jupyter.widget-view+json": {
       "model_id": "ac1ec6c583d54041b4cf820939fa1445",
       "version_major": 2,
       "version_minor": 0
      },
      "text/plain": [
       "HBox(children=(Label(value='Intervalo de corte'), FloatText(value=0.0, layout=Layout(width='100px')), FloatTex…"
      ]
     },
     "metadata": {},
     "output_type": "display_data"
    }
   ],
   "source": [
    "trunc_intervals.load_file_intervals(file_w.value)\n",
    "plotter.load_signal(file_w.value, channel_w.value)\n",
    "plotter.plot_signal(trunc_intervals.get_channel_intervals(channel_w.value))\n",
    "\n",
    "display(signal_controller_hboxw, output, trunc_intervals_hboxw)"
   ]
  },
  {
   "cell_type": "code",
   "execution_count": null,
   "id": "22572a43-13a7-4475-9864-d26c3f25eb6b",
   "metadata": {},
   "outputs": [],
   "source": []
  }
 ],
 "metadata": {
  "kernelspec": {
   "display_name": "eeg",
   "language": "python",
   "name": "eeg"
  },
  "language_info": {
   "codemirror_mode": {
    "name": "ipython",
    "version": 3
   },
   "file_extension": ".py",
   "mimetype": "text/x-python",
   "name": "python",
   "nbconvert_exporter": "python",
   "pygments_lexer": "ipython3",
   "version": "3.8.17"
  }
 },
 "nbformat": 4,
 "nbformat_minor": 5
}
