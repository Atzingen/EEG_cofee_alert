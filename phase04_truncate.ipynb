{
 "cells": [
  {
   "cell_type": "markdown",
   "id": "fa151414-5eb4-4fdf-b079-b4a9d57482cd",
   "metadata": {},
   "source": [
    "# Fase 4 - *Truncate*\n",
    "## Corte dos trechos ruins dos sinais coletados"
   ]
  },
  {
   "cell_type": "code",
   "execution_count": 1,
   "id": "b340e09e-8094-41e1-b5fe-81f229968eec",
   "metadata": {
    "tags": []
   },
   "outputs": [],
   "source": [
    "import os\n",
    "from src.data.signal_handler import Truncate\n",
    "from src.setup.Paths import Paths\n",
    "from src.file.FileManager import FileManager as flm"
   ]
  },
  {
   "cell_type": "markdown",
   "id": "a43a7be6-1afd-495c-b461-d02b61f49234",
   "metadata": {
    "tags": []
   },
   "source": [
    "### Definição dos caminhos dos recursos utilizados"
   ]
  },
  {
   "cell_type": "code",
   "execution_count": 2,
   "id": "be0de218-0ffb-40c3-983d-a87ef1f60d98",
   "metadata": {
    "tags": []
   },
   "outputs": [],
   "source": [
    "files_path = Paths.get_resource_path(Paths.Resources.FORMATTED)\n",
    "trunc_intervals_path = Paths.get_resource_path(Paths.Resources.TRUNC_JSONS)\n",
    "save_path = Paths.get_resource_path(Paths.Resources.TRUNCATED)"
   ]
  },
  {
   "cell_type": "markdown",
   "id": "5ce772c1-7f26-4f7f-afbd-d9b104589fb2",
   "metadata": {},
   "source": [
    "#### Carregando arquivos e incialização da classe `Truncate`"
   ]
  },
  {
   "cell_type": "code",
   "execution_count": 3,
   "id": "f5ec1343-c82b-4296-b408-06b4bac1f30c",
   "metadata": {
    "tags": []
   },
   "outputs": [],
   "source": [
    "trunc_intervals = [file for file in os.listdir(trunc_intervals_path) if '.json' in file]\n",
    "csv_files = [file.replace('json', 'csv') for file in trunc_intervals]\n",
    "\n",
    "trc = Truncate(files_path, trunc_intervals_path)"
   ]
  },
  {
   "cell_type": "markdown",
   "id": "289733bc-7d1e-4334-a70b-915c113d936e",
   "metadata": {},
   "source": [
    "#### Corte das partes definidas pelos arquivos json para cada arquivo em `FORMATTED`"
   ]
  },
  {
   "cell_type": "code",
   "execution_count": 4,
   "id": "a182d5b9-9a91-459a-8833-996b2e619bb4",
   "metadata": {},
   "outputs": [],
   "source": [
    "truncated_dfs = []\n",
    "\n",
    "for file in csv_files:\n",
    "    trc.setup_by_filename(file)\n",
    "    df = trc.truncate()\n",
    "    truncated_dfs.append(df)"
   ]
  },
  {
   "cell_type": "markdown",
   "id": "54cfad1f-01c3-4cfb-a7d6-71e60d08104d",
   "metadata": {},
   "source": [
    "#### Salvando resultados em `TRUNCATED`"
   ]
  },
  {
   "cell_type": "code",
   "execution_count": 5,
   "id": "2b21a27c-a14e-4c4f-8816-9d5586611700",
   "metadata": {
    "tags": []
   },
   "outputs": [],
   "source": [
    "flm.write_csvs_in_path(Paths.get_resource_path(Paths.Resources.TRUNCATED), truncated_dfs, csv_files)"
   ]
  }
 ],
 "metadata": {
  "kernelspec": {
   "display_name": "eeg",
   "language": "python",
   "name": "eeg"
  },
  "language_info": {
   "codemirror_mode": {
    "name": "ipython",
    "version": 3
   },
   "file_extension": ".py",
   "mimetype": "text/x-python",
   "name": "python",
   "nbconvert_exporter": "python",
   "pygments_lexer": "ipython3",
   "version": "3.8.17"
  }
 },
 "nbformat": 4,
 "nbformat_minor": 5
}
