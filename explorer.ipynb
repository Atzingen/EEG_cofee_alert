{
 "cells": [
  {
   "cell_type": "code",
   "execution_count": null,
   "metadata": {},
   "outputs": [],
   "source": [
    "# TODO - checar se pasta e dados existem \n",
    "# TODO2 nao ficar com o nome dataset_eeg_cafe2022 dentro de data, dados direto\n",
    "!gsutil cp -r gs://dataset_eeg_cafe2022 data"
   ]
  },
  {
   "cell_type": "code",
   "execution_count": 3,
   "metadata": {},
   "outputs": [],
   "source": [
    "import os, sys\n",
    "import pandas as pd\n",
    "import numpy as np\n",
    "import scipy\n",
    "import matplotlib.pyplot as plt\n",
    "import plotly.express as px"
   ]
  },
  {
   "cell_type": "code",
   "execution_count": 2,
   "metadata": {},
   "outputs": [],
   "source": [
    "from ipywidgets import interact, interactive, fixed, interact_manual\n",
    "import ipywidgets as widgets"
   ]
  },
  {
   "cell_type": "code",
   "execution_count": 17,
   "metadata": {},
   "outputs": [],
   "source": [
    "csv_files_path = 'data/dataset_eeg_cafe2022/RenamedFiles'"
   ]
  },
  {
   "cell_type": "code",
   "execution_count": 9,
   "metadata": {},
   "outputs": [],
   "source": [
    "csv_files = [file for file in os.listdir(csv_files_path) if '.csv' in file]"
   ]
  },
  {
   "cell_type": "code",
   "execution_count": 10,
   "metadata": {},
   "outputs": [
    {
     "data": {
      "text/plain": [
       "['alpha_1.csv',\n",
       " 'alpha_10.csv',\n",
       " 'alpha_11.csv',\n",
       " 'alpha_12.csv',\n",
       " 'alpha_14.csv',\n",
       " 'alpha_16.csv',\n",
       " 'alpha_17.csv',\n",
       " 'alpha_18.csv',\n",
       " 'alpha_19.csv',\n",
       " 'alpha_21.csv',\n",
       " 'alpha_3.csv',\n",
       " 'alpha_4.csv',\n",
       " 'alpha_5.csv',\n",
       " 'alpha_6.csv',\n",
       " 'alpha_7.csv',\n",
       " 'alpha_8.csv',\n",
       " 'alpha_9.csv',\n",
       " 'cafe-1_1.csv',\n",
       " 'cafe-1_10.csv',\n",
       " 'cafe-1_11.csv',\n",
       " 'cafe-1_12.csv',\n",
       " 'cafe-1_13.csv',\n",
       " 'cafe-1_14.csv',\n",
       " 'cafe-1_16.csv',\n",
       " 'cafe-1_17.csv',\n",
       " 'cafe-1_18.csv',\n",
       " 'cafe-1_19.csv',\n",
       " 'cafe-1_2.csv',\n",
       " 'cafe-1_21.csv',\n",
       " 'cafe-1_3.csv',\n",
       " 'cafe-1_4.csv',\n",
       " 'cafe-1_5.csv',\n",
       " 'cafe-1_6.csv',\n",
       " 'cafe-1_7.csv',\n",
       " 'cafe-1_8.csv',\n",
       " 'cafe-1_9.csv',\n",
       " 'cafe-2_1.csv',\n",
       " 'cafe-2_10.csv',\n",
       " 'cafe-2_11.csv',\n",
       " 'cafe-2_12.csv',\n",
       " 'cafe-2_13.csv',\n",
       " 'cafe-2_14.csv',\n",
       " 'cafe-2_16.csv',\n",
       " 'cafe-2_17.csv',\n",
       " 'cafe-2_18.csv',\n",
       " 'cafe-2_19.csv',\n",
       " 'cafe-2_2.csv',\n",
       " 'cafe-2_21.csv',\n",
       " 'cafe-2_3.csv',\n",
       " 'cafe-2_4.csv',\n",
       " 'cafe-2_5.csv',\n",
       " 'cafe-2_6.csv',\n",
       " 'cafe-2_7.csv',\n",
       " 'cafe-2_8.csv',\n",
       " 'cafe-2_9.csv',\n",
       " 'chimp_1.csv',\n",
       " 'chimp_10.csv',\n",
       " 'chimp_11.csv',\n",
       " 'chimp_12.csv',\n",
       " 'chimp_13.csv',\n",
       " 'chimp_14.csv',\n",
       " 'chimp_16.csv',\n",
       " 'chimp_17.csv',\n",
       " 'chimp_18.csv',\n",
       " 'chimp_19.csv',\n",
       " 'chimp_2.csv',\n",
       " 'chimp_21.csv',\n",
       " 'chimp_3.csv',\n",
       " 'chimp_4.csv',\n",
       " 'chimp_5.csv',\n",
       " 'chimp_6.csv',\n",
       " 'chimp_7.csv',\n",
       " 'chimp_8.csv',\n",
       " 'chimp_9.csv',\n",
       " 'react_1.csv',\n",
       " 'react_10.csv',\n",
       " 'react_11.csv',\n",
       " 'react_12.csv',\n",
       " 'react_13.csv',\n",
       " 'react_14.csv',\n",
       " 'react_16.csv',\n",
       " 'react_17.csv',\n",
       " 'react_18.csv',\n",
       " 'react_19.csv',\n",
       " 'react_21.csv',\n",
       " 'react_3.csv',\n",
       " 'react_4.csv',\n",
       " 'react_5.csv',\n",
       " 'react_6.csv',\n",
       " 'react_7.csv',\n",
       " 'react_8.csv',\n",
       " 'react_9.csv',\n",
       " 'seq_1.csv',\n",
       " 'seq_10.csv',\n",
       " 'seq_11.csv',\n",
       " 'seq_12.csv',\n",
       " 'seq_13.csv',\n",
       " 'seq_14.csv',\n",
       " 'seq_16.csv',\n",
       " 'seq_17.csv',\n",
       " 'seq_18.csv',\n",
       " 'seq_19.csv',\n",
       " 'seq_2.csv',\n",
       " 'seq_21.csv',\n",
       " 'seq_3.csv',\n",
       " 'seq_4.csv',\n",
       " 'seq_5.csv',\n",
       " 'seq_6.csv',\n",
       " 'seq_7.csv',\n",
       " 'seq_8.csv',\n",
       " 'seq_9.csv']"
      ]
     },
     "execution_count": 10,
     "metadata": {},
     "output_type": "execute_result"
    }
   ],
   "source": [
    "csv_files"
   ]
  },
  {
   "cell_type": "code",
   "execution_count": 12,
   "metadata": {},
   "outputs": [
    {
     "data": {
      "text/plain": [
       "'alpha_1.csv'"
      ]
     },
     "execution_count": 12,
     "metadata": {},
     "output_type": "execute_result"
    }
   ],
   "source": [
    "csv_files[0]"
   ]
  },
  {
   "cell_type": "code",
   "execution_count": 19,
   "metadata": {},
   "outputs": [
    {
     "data": {
      "text/html": [
       "<div>\n",
       "<style scoped>\n",
       "    .dataframe tbody tr th:only-of-type {\n",
       "        vertical-align: middle;\n",
       "    }\n",
       "\n",
       "    .dataframe tbody tr th {\n",
       "        vertical-align: top;\n",
       "    }\n",
       "\n",
       "    .dataframe thead th {\n",
       "        text-align: right;\n",
       "    }\n",
       "</style>\n",
       "<table border=\"1\" class=\"dataframe\">\n",
       "  <thead>\n",
       "    <tr style=\"text-align: right;\">\n",
       "      <th></th>\n",
       "      <th>Unnamed: 0</th>\n",
       "      <th>Index</th>\n",
       "      <th>Fp1</th>\n",
       "      <th>Fp2</th>\n",
       "      <th>C3</th>\n",
       "      <th>C4</th>\n",
       "      <th>P7</th>\n",
       "      <th>P8</th>\n",
       "      <th>O1</th>\n",
       "      <th>O2</th>\n",
       "      <th>...</th>\n",
       "      <th>other.6</th>\n",
       "      <th>other.7</th>\n",
       "      <th>other.8</th>\n",
       "      <th>other.9</th>\n",
       "      <th>other.10</th>\n",
       "      <th>other.11</th>\n",
       "      <th>other.12</th>\n",
       "      <th>Timestamp</th>\n",
       "      <th>other.13</th>\n",
       "      <th>Timestamp (Formatted)</th>\n",
       "    </tr>\n",
       "  </thead>\n",
       "  <tbody>\n",
       "    <tr>\n",
       "      <th>0</th>\n",
       "      <td>0</td>\n",
       "      <td>0.0</td>\n",
       "      <td>140700.744474</td>\n",
       "      <td>138498.292982</td>\n",
       "      <td>119123.398557</td>\n",
       "      <td>132000.439704</td>\n",
       "      <td>133360.364540</td>\n",
       "      <td>131335.162382</td>\n",
       "      <td>126233.533172</td>\n",
       "      <td>122703.723336</td>\n",
       "      <td>...</td>\n",
       "      <td>14.0</td>\n",
       "      <td>128.0</td>\n",
       "      <td>0.0</td>\n",
       "      <td>32.0</td>\n",
       "      <td>0.0</td>\n",
       "      <td>0.0</td>\n",
       "      <td>0.0</td>\n",
       "      <td>1.670251e+09</td>\n",
       "      <td>0.0</td>\n",
       "      <td>2022-12-05 11:28:56.390749</td>\n",
       "    </tr>\n",
       "    <tr>\n",
       "      <th>1</th>\n",
       "      <td>1</td>\n",
       "      <td>1.0</td>\n",
       "      <td>-12271.979424</td>\n",
       "      <td>-17941.946440</td>\n",
       "      <td>-47641.715126</td>\n",
       "      <td>13162.696441</td>\n",
       "      <td>41421.962252</td>\n",
       "      <td>12070.701965</td>\n",
       "      <td>23113.223685</td>\n",
       "      <td>27872.602984</td>\n",
       "      <td>...</td>\n",
       "      <td>0.0</td>\n",
       "      <td>0.0</td>\n",
       "      <td>0.0</td>\n",
       "      <td>0.0</td>\n",
       "      <td>0.0</td>\n",
       "      <td>0.0</td>\n",
       "      <td>0.0</td>\n",
       "      <td>1.670251e+09</td>\n",
       "      <td>0.0</td>\n",
       "      <td>2022-12-05 11:28:56.394747</td>\n",
       "    </tr>\n",
       "    <tr>\n",
       "      <th>2</th>\n",
       "      <td>2</td>\n",
       "      <td>2.0</td>\n",
       "      <td>-101716.016438</td>\n",
       "      <td>-106947.643393</td>\n",
       "      <td>-135590.174567</td>\n",
       "      <td>-105261.696012</td>\n",
       "      <td>-68590.820562</td>\n",
       "      <td>-97006.503881</td>\n",
       "      <td>-84496.992468</td>\n",
       "      <td>-76859.893126</td>\n",
       "      <td>...</td>\n",
       "      <td>0.0</td>\n",
       "      <td>0.0</td>\n",
       "      <td>0.0</td>\n",
       "      <td>0.0</td>\n",
       "      <td>0.0</td>\n",
       "      <td>0.0</td>\n",
       "      <td>0.0</td>\n",
       "      <td>1.670251e+09</td>\n",
       "      <td>0.0</td>\n",
       "      <td>2022-12-05 11:28:56.397770</td>\n",
       "    </tr>\n",
       "    <tr>\n",
       "      <th>3</th>\n",
       "      <td>3</td>\n",
       "      <td>3.0</td>\n",
       "      <td>59862.553759</td>\n",
       "      <td>55528.975192</td>\n",
       "      <td>11675.836048</td>\n",
       "      <td>3385.149346</td>\n",
       "      <td>12343.013268</td>\n",
       "      <td>12430.341533</td>\n",
       "      <td>5931.683592</td>\n",
       "      <td>4503.295362</td>\n",
       "      <td>...</td>\n",
       "      <td>0.0</td>\n",
       "      <td>0.0</td>\n",
       "      <td>0.0</td>\n",
       "      <td>0.0</td>\n",
       "      <td>0.0</td>\n",
       "      <td>0.0</td>\n",
       "      <td>0.0</td>\n",
       "      <td>1.670251e+09</td>\n",
       "      <td>0.0</td>\n",
       "      <td>2022-12-05 11:28:56.400766</td>\n",
       "    </tr>\n",
       "    <tr>\n",
       "      <th>4</th>\n",
       "      <td>4</td>\n",
       "      <td>4.0</td>\n",
       "      <td>148910.540212</td>\n",
       "      <td>146852.771563</td>\n",
       "      <td>125499.323070</td>\n",
       "      <td>130107.850445</td>\n",
       "      <td>129113.108410</td>\n",
       "      <td>130707.525397</td>\n",
       "      <td>123300.470209</td>\n",
       "      <td>119036.249105</td>\n",
       "      <td>...</td>\n",
       "      <td>0.0</td>\n",
       "      <td>0.0</td>\n",
       "      <td>0.0</td>\n",
       "      <td>0.0</td>\n",
       "      <td>0.0</td>\n",
       "      <td>0.0</td>\n",
       "      <td>0.0</td>\n",
       "      <td>1.670251e+09</td>\n",
       "      <td>0.0</td>\n",
       "      <td>2022-12-05 11:28:56.404766</td>\n",
       "    </tr>\n",
       "  </tbody>\n",
       "</table>\n",
       "<p>5 rows × 26 columns</p>\n",
       "</div>"
      ],
      "text/plain": [
       "   Unnamed: 0  Index            Fp1            Fp2             C3  \\\n",
       "0           0    0.0  140700.744474  138498.292982  119123.398557   \n",
       "1           1    1.0  -12271.979424  -17941.946440  -47641.715126   \n",
       "2           2    2.0 -101716.016438 -106947.643393 -135590.174567   \n",
       "3           3    3.0   59862.553759   55528.975192   11675.836048   \n",
       "4           4    4.0  148910.540212  146852.771563  125499.323070   \n",
       "\n",
       "              C4             P7             P8             O1             O2  \\\n",
       "0  132000.439704  133360.364540  131335.162382  126233.533172  122703.723336   \n",
       "1   13162.696441   41421.962252   12070.701965   23113.223685   27872.602984   \n",
       "2 -105261.696012  -68590.820562  -97006.503881  -84496.992468  -76859.893126   \n",
       "3    3385.149346   12343.013268   12430.341533    5931.683592    4503.295362   \n",
       "4  130107.850445  129113.108410  130707.525397  123300.470209  119036.249105   \n",
       "\n",
       "   ...  other.6  other.7  other.8  other.9  other.10  other.11  other.12  \\\n",
       "0  ...     14.0    128.0      0.0     32.0       0.0       0.0       0.0   \n",
       "1  ...      0.0      0.0      0.0      0.0       0.0       0.0       0.0   \n",
       "2  ...      0.0      0.0      0.0      0.0       0.0       0.0       0.0   \n",
       "3  ...      0.0      0.0      0.0      0.0       0.0       0.0       0.0   \n",
       "4  ...      0.0      0.0      0.0      0.0       0.0       0.0       0.0   \n",
       "\n",
       "      Timestamp  other.13       Timestamp (Formatted)  \n",
       "0  1.670251e+09       0.0  2022-12-05 11:28:56.390749  \n",
       "1  1.670251e+09       0.0  2022-12-05 11:28:56.394747  \n",
       "2  1.670251e+09       0.0  2022-12-05 11:28:56.397770  \n",
       "3  1.670251e+09       0.0  2022-12-05 11:28:56.400766  \n",
       "4  1.670251e+09       0.0  2022-12-05 11:28:56.404766  \n",
       "\n",
       "[5 rows x 26 columns]"
      ]
     },
     "execution_count": 19,
     "metadata": {},
     "output_type": "execute_result"
    }
   ],
   "source": [
    "df = pd.read_csv(f'{csv_files_path}/{csv_files[0]}', delimiter='\\t')\n",
    "df.head()"
   ]
  },
  {
   "cell_type": "code",
   "execution_count": 36,
   "metadata": {},
   "outputs": [],
   "source": [
    "canais = df.columns.to_list()[2:10]"
   ]
  },
  {
   "cell_type": "code",
   "execution_count": 52,
   "metadata": {},
   "outputs": [],
   "source": [
    "def plot_sinal(arquivo, canal):\n",
    "    df = pd.read_csv(f'{csv_files_path}/{arquivo}', delimiter='\\t')\n",
    "    t = df['Timestamp'].to_numpy()\n",
    "    c = df[canal].to_numpy()\n",
    "    fig = px.line(x=t, y=c)\n",
    "    fig.show()"
   ]
  },
  {
   "cell_type": "code",
   "execution_count": 53,
   "metadata": {},
   "outputs": [
    {
     "data": {
      "application/vnd.jupyter.widget-view+json": {
       "model_id": "c4e78f6694d246309e5c7c2eed13b3d4",
       "version_major": 2,
       "version_minor": 0
      },
      "text/plain": [
       "interactive(children=(Dropdown(description='arquivo', options=('alpha_1.csv', 'alpha_10.csv', 'alpha_11.csv', …"
      ]
     },
     "metadata": {},
     "output_type": "display_data"
    },
    {
     "data": {
      "text/plain": [
       "<function __main__.plot_sinal(arquivo, canal)>"
      ]
     },
     "execution_count": 53,
     "metadata": {},
     "output_type": "execute_result"
    }
   ],
   "source": [
    "interact(plot_sinal, arquivo=csv_files, canal=canais)"
   ]
  },
  {
   "cell_type": "markdown",
   "metadata": {},
   "source": [
    "## TODO reunião (26/01)\n",
    "\n",
    "* Criar um novo csv arrumado\n",
    "    * Arrumar a escala de tempo de todos os dados\n",
    "    * remover todos os other (canais e tempo)\n",
    "    * remover parte (ou total) de sinais com ruido"
   ]
  },
  {
   "cell_type": "code",
   "execution_count": 54,
   "metadata": {},
   "outputs": [],
   "source": [
    "df['Timestamp'] = df['Timestamp'] - df['Timestamp'].min()"
   ]
  },
  {
   "cell_type": "code",
   "execution_count": 60,
   "metadata": {},
   "outputs": [],
   "source": [
    "df2 = df[df['Timestamp'] > 50]"
   ]
  },
  {
   "cell_type": "code",
   "execution_count": 62,
   "metadata": {},
   "outputs": [
    {
     "data": {
      "text/plain": [
       "12493   -131289.006029\n",
       "12494       646.613615\n",
       "12495    117873.958394\n",
       "12496     -2506.010533\n",
       "12497   -131271.839890\n",
       "             ...      \n",
       "37591   -154104.348016\n",
       "37592   -172770.245107\n",
       "37593   -125312.931873\n",
       "37594    -87392.638611\n",
       "37595   -137264.342578\n",
       "Name: C3, Length: 25103, dtype: float64"
      ]
     },
     "execution_count": 62,
     "metadata": {},
     "output_type": "execute_result"
    }
   ],
   "source": [
    "df2['C3']"
   ]
  },
  {
   "cell_type": "code",
   "execution_count": null,
   "metadata": {},
   "outputs": [],
   "source": [
    "df2.to_csv('saida.csv')"
   ]
  }
 ],
 "metadata": {
  "kernelspec": {
   "display_name": "Python 3 (ipykernel)",
   "language": "python",
   "name": "python3"
  },
  "language_info": {
   "codemirror_mode": {
    "name": "ipython",
    "version": 3
   },
   "file_extension": ".py",
   "mimetype": "text/x-python",
   "name": "python",
   "nbconvert_exporter": "python",
   "pygments_lexer": "ipython3",
   "version": "3.9.7"
  },
  "vscode": {
   "interpreter": {
    "hash": "276acadf60be9d076fed6f55caa7bdc0622bad6d1d9977d9edee58cc8dbe3b14"
   }
  }
 },
 "nbformat": 4,
 "nbformat_minor": 4
}
