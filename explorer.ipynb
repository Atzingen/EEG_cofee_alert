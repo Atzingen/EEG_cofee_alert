{
 "cells": [
  {
   "cell_type": "markdown",
   "id": "ecd6dfe2-6072-4116-8766-40deb031ec8d",
   "metadata": {},
   "source": [
    "# EEG Explorer"
   ]
  },
  {
   "cell_type": "markdown",
   "id": "5572954f-a321-4693-8499-e5791268bbc5",
   "metadata": {
    "jp-MarkdownHeadingCollapsed": true
   },
   "source": [
    "## 1. Trabalhando com dados brutos"
   ]
  },
  {
   "cell_type": "code",
   "execution_count": 8,
   "id": "3b0cd83f-df10-496a-a5c8-b1fb032376de",
   "metadata": {},
   "outputs": [],
   "source": [
    "import ipywidgets as widgets\n",
    "import pandas as pd\n",
    "import numpy as np\n",
    "import matplotlib.pyplot as plt\n",
    "import plotly.express as px\n",
    "import scipy\n",
    "import os\n",
    "\n",
    "from src.file import File\n",
    "from src.data import Formatter"
   ]
  },
  {
   "cell_type": "markdown",
   "id": "5df34e74-3738-442f-b207-53c90fdc29d0",
   "metadata": {
    "jp-MarkdownHeadingCollapsed": true
   },
   "source": [
    "### 1.1. Importando arquivos do bucket"
   ]
  },
  {
   "cell_type": "code",
   "execution_count": 11,
   "id": "5868869a-297c-462f-94c6-3e16deea598d",
   "metadata": {},
   "outputs": [
    {
     "data": {
      "text/html": [
       "<div>\n",
       "<style scoped>\n",
       "    .dataframe tbody tr th:only-of-type {\n",
       "        vertical-align: middle;\n",
       "    }\n",
       "\n",
       "    .dataframe tbody tr th {\n",
       "        vertical-align: top;\n",
       "    }\n",
       "\n",
       "    .dataframe thead th {\n",
       "        text-align: right;\n",
       "    }\n",
       "</style>\n",
       "<table border=\"1\" class=\"dataframe\">\n",
       "  <thead>\n",
       "    <tr style=\"text-align: right;\">\n",
       "      <th></th>\n",
       "      <th>Unnamed: 0</th>\n",
       "      <th>Index</th>\n",
       "      <th>Fp1</th>\n",
       "      <th>Fp2</th>\n",
       "      <th>C3</th>\n",
       "      <th>C4</th>\n",
       "      <th>P7</th>\n",
       "      <th>P8</th>\n",
       "      <th>O1</th>\n",
       "      <th>O2</th>\n",
       "      <th>...</th>\n",
       "      <th>other.6</th>\n",
       "      <th>other.7</th>\n",
       "      <th>other.8</th>\n",
       "      <th>other.9</th>\n",
       "      <th>other.10</th>\n",
       "      <th>other.11</th>\n",
       "      <th>other.12</th>\n",
       "      <th>Timestamp</th>\n",
       "      <th>other.13</th>\n",
       "      <th>Timestamp (Formatted)</th>\n",
       "    </tr>\n",
       "  </thead>\n",
       "  <tbody>\n",
       "    <tr>\n",
       "      <th>0</th>\n",
       "      <td>0</td>\n",
       "      <td>0.0</td>\n",
       "      <td>-0.000000</td>\n",
       "      <td>-0.000000</td>\n",
       "      <td>-0.000000</td>\n",
       "      <td>-0.000000</td>\n",
       "      <td>-0.000000</td>\n",
       "      <td>-0.000000</td>\n",
       "      <td>-0.000000</td>\n",
       "      <td>-0.000000</td>\n",
       "      <td>...</td>\n",
       "      <td>28.0</td>\n",
       "      <td>48.0</td>\n",
       "      <td>7.0</td>\n",
       "      <td>192.0</td>\n",
       "      <td>0.0</td>\n",
       "      <td>0.0</td>\n",
       "      <td>0.0</td>\n",
       "      <td>1.670415e+09</td>\n",
       "      <td>0.0</td>\n",
       "      <td>2022-12-07 09:16:01.548664</td>\n",
       "    </tr>\n",
       "    <tr>\n",
       "      <th>1</th>\n",
       "      <td>1</td>\n",
       "      <td>1.0</td>\n",
       "      <td>-116197.586048</td>\n",
       "      <td>70213.968802</td>\n",
       "      <td>-157452.285324</td>\n",
       "      <td>-150474.161549</td>\n",
       "      <td>-19826.878537</td>\n",
       "      <td>-154831.321625</td>\n",
       "      <td>66806.939425</td>\n",
       "      <td>-66900.016093</td>\n",
       "      <td>...</td>\n",
       "      <td>0.0</td>\n",
       "      <td>0.0</td>\n",
       "      <td>0.0</td>\n",
       "      <td>0.0</td>\n",
       "      <td>0.0</td>\n",
       "      <td>0.0</td>\n",
       "      <td>0.0</td>\n",
       "      <td>1.670415e+09</td>\n",
       "      <td>0.0</td>\n",
       "      <td>2022-12-07 09:16:01.564580</td>\n",
       "    </tr>\n",
       "    <tr>\n",
       "      <th>2</th>\n",
       "      <td>2</td>\n",
       "      <td>2.0</td>\n",
       "      <td>-105795.830102</td>\n",
       "      <td>43769.109207</td>\n",
       "      <td>-112905.233282</td>\n",
       "      <td>-122227.513975</td>\n",
       "      <td>-64803.333723</td>\n",
       "      <td>-114433.038929</td>\n",
       "      <td>569.534549</td>\n",
       "      <td>-82343.003642</td>\n",
       "      <td>...</td>\n",
       "      <td>0.0</td>\n",
       "      <td>0.0</td>\n",
       "      <td>0.0</td>\n",
       "      <td>0.0</td>\n",
       "      <td>0.0</td>\n",
       "      <td>0.0</td>\n",
       "      <td>0.0</td>\n",
       "      <td>1.670415e+09</td>\n",
       "      <td>0.0</td>\n",
       "      <td>2022-12-07 09:16:01.575633</td>\n",
       "    </tr>\n",
       "    <tr>\n",
       "      <th>3</th>\n",
       "      <td>3</td>\n",
       "      <td>3.0</td>\n",
       "      <td>-114567.880971</td>\n",
       "      <td>28118.067060</td>\n",
       "      <td>-97444.815851</td>\n",
       "      <td>-105830.188207</td>\n",
       "      <td>-64555.828908</td>\n",
       "      <td>-97760.274210</td>\n",
       "      <td>-33991.050097</td>\n",
       "      <td>-90947.959156</td>\n",
       "      <td>...</td>\n",
       "      <td>0.0</td>\n",
       "      <td>0.0</td>\n",
       "      <td>0.0</td>\n",
       "      <td>0.0</td>\n",
       "      <td>0.0</td>\n",
       "      <td>0.0</td>\n",
       "      <td>0.0</td>\n",
       "      <td>1.670415e+09</td>\n",
       "      <td>0.0</td>\n",
       "      <td>2022-12-07 09:16:01.579660</td>\n",
       "    </tr>\n",
       "    <tr>\n",
       "      <th>4</th>\n",
       "      <td>4</td>\n",
       "      <td>4.0</td>\n",
       "      <td>-137846.248156</td>\n",
       "      <td>64758.974920</td>\n",
       "      <td>-156445.929614</td>\n",
       "      <td>-143579.808281</td>\n",
       "      <td>-35740.413418</td>\n",
       "      <td>-150625.859354</td>\n",
       "      <td>18197.766831</td>\n",
       "      <td>-96318.682106</td>\n",
       "      <td>...</td>\n",
       "      <td>0.0</td>\n",
       "      <td>0.0</td>\n",
       "      <td>0.0</td>\n",
       "      <td>0.0</td>\n",
       "      <td>0.0</td>\n",
       "      <td>0.0</td>\n",
       "      <td>0.0</td>\n",
       "      <td>1.670415e+09</td>\n",
       "      <td>0.0</td>\n",
       "      <td>2022-12-07 09:16:01.582661</td>\n",
       "    </tr>\n",
       "  </tbody>\n",
       "</table>\n",
       "<p>5 rows × 26 columns</p>\n",
       "</div>"
      ],
      "text/plain": [
       "   Unnamed: 0  Index            Fp1           Fp2             C3  \\\n",
       "0           0    0.0      -0.000000     -0.000000      -0.000000   \n",
       "1           1    1.0 -116197.586048  70213.968802 -157452.285324   \n",
       "2           2    2.0 -105795.830102  43769.109207 -112905.233282   \n",
       "3           3    3.0 -114567.880971  28118.067060  -97444.815851   \n",
       "4           4    4.0 -137846.248156  64758.974920 -156445.929614   \n",
       "\n",
       "              C4            P7             P8            O1            O2  \\\n",
       "0      -0.000000     -0.000000      -0.000000     -0.000000     -0.000000   \n",
       "1 -150474.161549 -19826.878537 -154831.321625  66806.939425 -66900.016093   \n",
       "2 -122227.513975 -64803.333723 -114433.038929    569.534549 -82343.003642   \n",
       "3 -105830.188207 -64555.828908  -97760.274210 -33991.050097 -90947.959156   \n",
       "4 -143579.808281 -35740.413418 -150625.859354  18197.766831 -96318.682106   \n",
       "\n",
       "   ...  other.6  other.7  other.8  other.9  other.10  other.11  other.12  \\\n",
       "0  ...     28.0     48.0      7.0    192.0       0.0       0.0       0.0   \n",
       "1  ...      0.0      0.0      0.0      0.0       0.0       0.0       0.0   \n",
       "2  ...      0.0      0.0      0.0      0.0       0.0       0.0       0.0   \n",
       "3  ...      0.0      0.0      0.0      0.0       0.0       0.0       0.0   \n",
       "4  ...      0.0      0.0      0.0      0.0       0.0       0.0       0.0   \n",
       "\n",
       "      Timestamp  other.13       Timestamp (Formatted)  \n",
       "0  1.670415e+09       0.0  2022-12-07 09:16:01.548664  \n",
       "1  1.670415e+09       0.0  2022-12-07 09:16:01.564580  \n",
       "2  1.670415e+09       0.0  2022-12-07 09:16:01.575633  \n",
       "3  1.670415e+09       0.0  2022-12-07 09:16:01.579660  \n",
       "4  1.670415e+09       0.0  2022-12-07 09:16:01.582661  \n",
       "\n",
       "[5 rows x 26 columns]"
      ]
     },
     "execution_count": 11,
     "metadata": {},
     "output_type": "execute_result"
    }
   ],
   "source": [
    "raw = File.get_files_from(resource=\"raw\")\n",
    "\n",
    "df = pd.read_csv(f\"{File.get_path_by(resource='raw')}/{raw[0]}\", delimiter=\"\\t\")\n",
    "df.head()"
   ]
  },
  {
   "cell_type": "markdown",
   "id": "f1077ad9-47ed-4269-9665-2572fdeb5dce",
   "metadata": {
    "jp-MarkdownHeadingCollapsed": true
   },
   "source": [
    "### 1.2. Renomeando arquivos brutos"
   ]
  },
  {
   "cell_type": "code",
   "execution_count": 12,
   "id": "abcd1a32-fca4-4fa8-a2ea-f227538d9e61",
   "metadata": {
    "scrolled": true
   },
   "outputs": [],
   "source": [
    "File.rename_raw_files()"
   ]
  },
  {
   "cell_type": "markdown",
   "id": "d0a2ef27-8d2d-476f-b161-75f31e62ef2d",
   "metadata": {
    "jp-MarkdownHeadingCollapsed": true
   },
   "source": [
    "### 1.3. Formatando os sinais"
   ]
  },
  {
   "cell_type": "code",
   "execution_count": 13,
   "id": "2c27e0fb-2b9e-423d-b728-dd61cbebc2b7",
   "metadata": {},
   "outputs": [],
   "source": [
    "renamed = File.get_files_from(resource=\"renamed\")\n",
    "dataframes = [pd.read_csv(f\"{File.get_path_by(resource='renamed')}/{file}\", delimiter=\"\\t\") for file in renamed]"
   ]
  },
  {
   "cell_type": "markdown",
   "id": "4020bc2c-1294-4027-91f5-5e4c0c56c6fd",
   "metadata": {},
   "source": [
    "#### 1.3.1. Normalizando timestamps"
   ]
  },
  {
   "cell_type": "code",
   "execution_count": 14,
   "id": "6a210001-a142-4b2a-b888-b830a47aee05",
   "metadata": {
    "scrolled": true,
    "tags": []
   },
   "outputs": [],
   "source": [
    "# df[\"Timestamp\"] = df[\"Timestamp\"] - df[\"Timestamp\"].min()\n",
    "\n",
    "dataframes = Formatter.normalize_timestamps_for(dataframes)"
   ]
  },
  {
   "cell_type": "markdown",
   "id": "0fcb078a-6b8e-488e-9046-12fa9aab861f",
   "metadata": {},
   "source": [
    "#### 1.3.2. Removendo colunas indesejadas"
   ]
  },
  {
   "cell_type": "code",
   "execution_count": 15,
   "id": "9779bb0d-f041-4634-a7c3-e0d8b06e4249",
   "metadata": {},
   "outputs": [],
   "source": [
    "# df.drop de cada coluna marcada como \"other\", \"Unnamed\" ou \"Timestamp (Formatted)\"\n",
    "\n",
    "dataframes = Formatter.remove_other_columns_for(dataframes)"
   ]
  },
  {
   "cell_type": "markdown",
   "id": "5dddf98f-38eb-4afa-ba38-431c33c695a3",
   "metadata": {},
   "source": [
    "##### DataFrame pós formatação"
   ]
  },
  {
   "cell_type": "code",
   "execution_count": 16,
   "id": "1b917097-a8b1-4726-87d7-93be87058c9b",
   "metadata": {},
   "outputs": [
    {
     "data": {
      "text/html": [
       "<div>\n",
       "<style scoped>\n",
       "    .dataframe tbody tr th:only-of-type {\n",
       "        vertical-align: middle;\n",
       "    }\n",
       "\n",
       "    .dataframe tbody tr th {\n",
       "        vertical-align: top;\n",
       "    }\n",
       "\n",
       "    .dataframe thead th {\n",
       "        text-align: right;\n",
       "    }\n",
       "</style>\n",
       "<table border=\"1\" class=\"dataframe\">\n",
       "  <thead>\n",
       "    <tr style=\"text-align: right;\">\n",
       "      <th></th>\n",
       "      <th>Index</th>\n",
       "      <th>Fp1</th>\n",
       "      <th>Fp2</th>\n",
       "      <th>C3</th>\n",
       "      <th>C4</th>\n",
       "      <th>P7</th>\n",
       "      <th>P8</th>\n",
       "      <th>O1</th>\n",
       "      <th>O2</th>\n",
       "      <th>Timestamp</th>\n",
       "    </tr>\n",
       "  </thead>\n",
       "  <tbody>\n",
       "    <tr>\n",
       "      <th>0</th>\n",
       "      <td>0.0</td>\n",
       "      <td>-0.000000</td>\n",
       "      <td>-0.000000</td>\n",
       "      <td>-0.000000</td>\n",
       "      <td>-0.000000</td>\n",
       "      <td>-0.000000</td>\n",
       "      <td>-0.000000</td>\n",
       "      <td>-0.000000</td>\n",
       "      <td>-0.000000</td>\n",
       "      <td>0.000000</td>\n",
       "    </tr>\n",
       "    <tr>\n",
       "      <th>1</th>\n",
       "      <td>1.0</td>\n",
       "      <td>-30684.333551</td>\n",
       "      <td>-54767.279418</td>\n",
       "      <td>164410.104314</td>\n",
       "      <td>-35547.368942</td>\n",
       "      <td>30972.441997</td>\n",
       "      <td>92641.290661</td>\n",
       "      <td>-46111.364923</td>\n",
       "      <td>-74367.728236</td>\n",
       "      <td>0.017010</td>\n",
       "    </tr>\n",
       "    <tr>\n",
       "      <th>2</th>\n",
       "      <td>2.0</td>\n",
       "      <td>-22767.318726</td>\n",
       "      <td>-38787.579878</td>\n",
       "      <td>151049.332509</td>\n",
       "      <td>-109237.703277</td>\n",
       "      <td>62394.899205</td>\n",
       "      <td>98603.120244</td>\n",
       "      <td>-447.936799</td>\n",
       "      <td>-31001.693575</td>\n",
       "      <td>0.020050</td>\n",
       "    </tr>\n",
       "    <tr>\n",
       "      <th>3</th>\n",
       "      <td>3.0</td>\n",
       "      <td>4058.659344</td>\n",
       "      <td>-7946.013541</td>\n",
       "      <td>183130.925096</td>\n",
       "      <td>-142526.406932</td>\n",
       "      <td>-111357.091297</td>\n",
       "      <td>-54117.613231</td>\n",
       "      <td>-164388.954829</td>\n",
       "      <td>-177441.745461</td>\n",
       "      <td>0.024025</td>\n",
       "    </tr>\n",
       "    <tr>\n",
       "      <th>4</th>\n",
       "      <td>4.0</td>\n",
       "      <td>1175.880705</td>\n",
       "      <td>-17243.740964</td>\n",
       "      <td>200981.666048</td>\n",
       "      <td>-103547.672195</td>\n",
       "      <td>-123177.869331</td>\n",
       "      <td>-75500.693269</td>\n",
       "      <td>-161731.177000</td>\n",
       "      <td>-173546.725964</td>\n",
       "      <td>0.029008</td>\n",
       "    </tr>\n",
       "  </tbody>\n",
       "</table>\n",
       "</div>"
      ],
      "text/plain": [
       "   Index           Fp1           Fp2             C3             C4  \\\n",
       "0    0.0     -0.000000     -0.000000      -0.000000      -0.000000   \n",
       "1    1.0 -30684.333551 -54767.279418  164410.104314  -35547.368942   \n",
       "2    2.0 -22767.318726 -38787.579878  151049.332509 -109237.703277   \n",
       "3    3.0   4058.659344  -7946.013541  183130.925096 -142526.406932   \n",
       "4    4.0   1175.880705 -17243.740964  200981.666048 -103547.672195   \n",
       "\n",
       "              P7            P8             O1             O2  Timestamp  \n",
       "0      -0.000000     -0.000000      -0.000000      -0.000000   0.000000  \n",
       "1   30972.441997  92641.290661  -46111.364923  -74367.728236   0.017010  \n",
       "2   62394.899205  98603.120244    -447.936799  -31001.693575   0.020050  \n",
       "3 -111357.091297 -54117.613231 -164388.954829 -177441.745461   0.024025  \n",
       "4 -123177.869331 -75500.693269 -161731.177000 -173546.725964   0.029008  "
      ]
     },
     "execution_count": 16,
     "metadata": {},
     "output_type": "execute_result"
    }
   ],
   "source": [
    "dataframes[0].head()"
   ]
  },
  {
   "cell_type": "code",
   "execution_count": 17,
   "id": "0ae4fcfc-16d1-45f8-a973-8a0da1c27a64",
   "metadata": {},
   "outputs": [],
   "source": [
    "File.write_dataframes_in(path=File.get_path_by(resource=\"formatted\"),\n",
    "                         dataframes=dataframes,\n",
    "                         filenames=renamed)"
   ]
  },
  {
   "cell_type": "markdown",
   "id": "72afb08d-e7a1-46cd-ab18-e35f00bc1c1d",
   "metadata": {
    "jp-MarkdownHeadingCollapsed": true
   },
   "source": [
    "### 1.4. Visualização dos sinais"
   ]
  },
  {
   "cell_type": "code",
   "execution_count": 17,
   "id": "5143c34e-3016-4cfb-b827-858261b8c00a",
   "metadata": {},
   "outputs": [
    {
     "data": {
      "application/vnd.jupyter.widget-view+json": {
       "model_id": "e400309fb8144e1c8bb5d84da6b5a482",
       "version_major": 2,
       "version_minor": 0
      },
      "text/plain": [
       "VBox(children=(HBox(children=(Combobox(value='react_8.csv', description='Arquivo', options=('react_8.csv', 'se…"
      ]
     },
     "execution_count": 17,
     "metadata": {},
     "output_type": "execute_result"
    }
   ],
   "source": [
    "# Dependências\n",
    "filenames = File.get_files_from(resource=\"formatted\")\n",
    "channels = [\"Fp1\", \"Fp2\", \"C3\", \"C4\", \"P7\", \"P8\", \"O1\", \"O2\"]\n",
    "\n",
    "# Widgets\n",
    "window_widget = widgets.IntSlider(min=1,\n",
    "                                  max=1000,\n",
    "                                  step=10,\n",
    "                                  value=50,\n",
    "                                  description=\"Janela\")\n",
    "file_widget = widgets.Combobox(options=filenames, \n",
    "                               value=filenames[0],\n",
    "                               description=\"Arquivo\")\n",
    "channel_widget = widgets.Dropdown(options=channels,\n",
    "                                  value=channels[0],\n",
    "                                  description=\"Canal\")\n",
    "\n",
    "# Função de plotagem\n",
    "def plot_signal(file, channel, window):\n",
    "    delta = window\n",
    "    df = pd.read_csv(f\"{File.get_path_by(resource='formatted')}/{file}\", delimiter=\",\")\n",
    "    timestamps = df[\"Timestamp\"].to_numpy()\n",
    "    channel_data = df[channel].to_numpy()\n",
    "    \n",
    "    moving_average = np.convolve(channel_data, np.ones(512)/512, mode=\"valid\")\n",
    "    first_derivative = 100*(moving_average[:-delta] - moving_average[delta:])/delta\n",
    "    fig = px.line(x=timestamps[:len(first_derivative)],\n",
    "                  y=[channel_data[:len(first_derivative)],\n",
    "                     moving_average[:len(first_derivative)],\n",
    "                     first_derivative])\n",
    "    fig.update_yaxes(range=[moving_average[10]-5E3, moving_average[10]+5E3])\n",
    "    fig.show()\n",
    "\n",
    "# Display dos widgets\n",
    "out = widgets.interactive_output(plot_signal, \n",
    "                                 {\"file\": file_widget, \n",
    "                                  \"channel\": channel_widget, \n",
    "                                  \"window\": window_widget})\n",
    "\n",
    "widgets.VBox([widgets.HBox([file_widget, channel_widget, window_widget]), out])"
   ]
  },
  {
   "cell_type": "markdown",
   "id": "7ebfa0ef-1133-40b4-b762-e092d13c8d9f",
   "metadata": {
    "jp-MarkdownHeadingCollapsed": true
   },
   "source": [
    "## 2. Filtrando trechos indesejados dos sinais"
   ]
  },
  {
   "cell_type": "code",
   "execution_count": 1,
   "id": "683b5b02-8187-4868-96e5-028c9e5d082f",
   "metadata": {},
   "outputs": [],
   "source": [
    "import ipywidgets as widgets\n",
    "import os\n",
    "\n",
    "from src.file import File\n",
    "from src.data import Truncate\n",
    "from src.data import TruncateIntervals\n",
    "from src.data import Plotter"
   ]
  },
  {
   "cell_type": "markdown",
   "id": "e70be2a2-f1b9-432a-af6e-f33a18ad65f1",
   "metadata": {},
   "source": [
    "### 2.1. Seleção de intervalos com os trechos indesejados para cada sinal"
   ]
  },
  {
   "cell_type": "markdown",
   "id": "3d19a2d7-1b3b-41f0-8f6b-ebd7a3c56c2f",
   "metadata": {},
   "source": [
    "#### 2.1.1. Selecionando trechos de maneira interativa"
   ]
  },
  {
   "cell_type": "code",
   "execution_count": 10,
   "id": "3268d842-81cf-4096-8fd5-48fa3d1deae0",
   "metadata": {},
   "outputs": [
    {
     "data": {
      "application/vnd.jupyter.widget-view+json": {
       "model_id": "870413c5e8744bccaf5380dfd832dcb2",
       "version_major": 2,
       "version_minor": 0
      },
      "text/plain": [
       "HBox(children=(Combobox(value='react_8.csv', description='Arquivo', layout=Layout(width='300px'), options=('re…"
      ]
     },
     "metadata": {},
     "output_type": "display_data"
    },
    {
     "data": {
      "application/vnd.jupyter.widget-view+json": {
       "model_id": "e2bfb17f970b4f458d3f5fc3211ed28d",
       "version_major": 2,
       "version_minor": 0
      },
      "text/plain": [
       "Output()"
      ]
     },
     "metadata": {},
     "output_type": "display_data"
    },
    {
     "data": {
      "application/vnd.jupyter.widget-view+json": {
       "model_id": "0394c9525a6a4e629cab6d1ee7200252",
       "version_major": 2,
       "version_minor": 0
      },
      "text/plain": [
       "HBox(children=(Label(value='Intervalo de corte'), FloatText(value=0.0, layout=Layout(width='100px')), FloatTex…"
      ]
     },
     "metadata": {},
     "output_type": "display_data"
    }
   ],
   "source": [
    "# Dependências\n",
    "output = widgets.Output()\n",
    "trunc_intervals = TruncateIntervals(truncate_intervals_path=File.get_path_by(resource=\"truncation_intervals\"))\n",
    "plotter = Plotter(files_path=File.get_path_by(resource=\"formatted\"),\n",
    "                  output=output)\n",
    "filenames = File.get_files_from(resource=\"formatted\")\n",
    "channels = [\"Fp1\", \"Fp2\", \"C3\", \"C4\", \"P7\", \"P8\", \"O1\", \"O2\"]\n",
    "\n",
    "file_widget_changed = False\n",
    "channel_widget_changed = False\n",
    "\n",
    "# Widgets\n",
    "file_w = widgets.Combobox(options=filenames,\n",
    "                          value=filenames[0],\n",
    "                          description=\"Arquivo\",\n",
    "                          layout=widgets.Layout(width=\"300px\"))\n",
    "channel_w = widgets.Dropdown(options=channels,\n",
    "                             value = channels[0],\n",
    "                             description=\"Canal\",\n",
    "                             layout=widgets.Layout(width = \"300px\"))\n",
    "refresh_btn_w = widgets.Button(description=\"Refresh\",\n",
    "                               layout=widgets.Layout(width = \"70px\"))\n",
    "refresh_btn_w.layout.margin = \"0px 0px 0px 50px\"\n",
    "\n",
    "signal_controller_hboxw = widgets.HBox([file_w, channel_w, refresh_btn_w])\n",
    "\n",
    "label_w = widgets.Label(value=\"Intervalo de corte\")\n",
    "bottom_limit_w = widgets.FloatText(layout=widgets.Layout(width=\"100px\"))\n",
    "top_limit_w = widgets.FloatText(layout = widgets.Layout(width=\"100px\"))\n",
    "add_interval_btn_w = widgets.Button(description=\"Add\",\n",
    "                                    layout=widgets.Layout(width=\"70px\"))\n",
    "pop_interval_btn_w = widgets.Button(description=\"Pop\",\n",
    "                                    layout=widgets.Layout(width=\"70px\"))\n",
    "save_interval_btn_w = widgets.Button(description=\"Save\",\n",
    "                                     layout=widgets.Layout(width=\"70px\"))\n",
    "\n",
    "trunc_intervals_hboxw = widgets.HBox([label_w,\n",
    "                                      bottom_limit_w,\n",
    "                                      top_limit_w,\n",
    "                                      add_interval_btn_w,\n",
    "                                      pop_interval_btn_w,\n",
    "                                      save_interval_btn_w],\n",
    "                                     layout=widgets.Layout(justify_content='center'))\n",
    "\n",
    "# Definição de eventos para os widgets\n",
    "def file_widget_change_handler(change):\n",
    "    global file_widget_changed\n",
    "    if change[\"type\"] == \"change\" and change[\"name\"] == \"value\":\n",
    "        file_widget_changed = True\n",
    "\n",
    "def channel_widget_change_handler(change):\n",
    "    global channel_widget_changed\n",
    "    if change[\"type\"] == \"change\" and change[\"name\"] == \"value\":\n",
    "        channel_widget_changed = True\n",
    "\n",
    "def refresh_button_clicked(btn):\n",
    "    global file_widget_changed\n",
    "    global channel_widget_changed\n",
    "    if file_widget_changed:\n",
    "        trunc_intervals.save_current_file_intervals()\n",
    "        trunc_intervals.load_file_intervals(file_w.value)\n",
    "        plotter.load_signal(file_w.value, channel_w.value)\n",
    "        plotter.plot_signal(trunc_intervals.get_channel_intervals(channel_w.value))\n",
    "        file_widget_changed = False\n",
    "        channel_widget_changed = False\n",
    "    elif channel_widget_changed:\n",
    "        plotter.change_current_fig(channel_w.value)\n",
    "        plotter.plot_signal(trunc_intervals.get_channel_intervals(channel_w.value))\n",
    "        channel_widget_changed = False\n",
    "\n",
    "def add_intervals_clicked(btn):\n",
    "    start = bottom_limit_w.value\n",
    "    end = top_limit_w.value\n",
    "    trunc_intervals.add_interval_by_channel(channel_w.value, start, end)\n",
    "    plotter.plot_signal(trunc_intervals.get_channel_intervals(channel_w.value))\n",
    "\n",
    "def pop_intervals_clicked(btn):\n",
    "    trunc_intervals.pop_interval_by_channel(channel_w.value)\n",
    "    plotter.plot_signal(trunc_intervals.get_channel_intervals(channel_w.value))\n",
    "\n",
    "def save_intervals_clicked(btn):\n",
    "    trunc_intervals.save_current_file_intervals()\n",
    "\n",
    "file_w.observe(file_widget_change_handler)\n",
    "channel_w.observe(channel_widget_change_handler)\n",
    "refresh_btn_w.on_click(refresh_button_clicked)\n",
    "add_interval_btn_w.on_click(add_intervals_clicked)\n",
    "pop_interval_btn_w.on_click(pop_intervals_clicked)\n",
    "save_interval_btn_w.on_click(save_intervals_clicked)\n",
    "\n",
    "# Display dos widgets\n",
    "trunc_intervals.load_file_intervals(file_w.value)\n",
    "plotter.load_signal(file_w.value, channel_w.value)\n",
    "plotter.plot_signal(trunc_intervals.get_channel_intervals(channel_w.value))\n",
    "\n",
    "display(signal_controller_hboxw, output, trunc_intervals_hboxw)"
   ]
  },
  {
   "cell_type": "markdown",
   "id": "ec2d5d28-4eb5-4a1b-bd3d-9fec7027d498",
   "metadata": {},
   "source": [
    "### 2.2. Truncamento dos sinais originais a partir dos intervalos selecionados"
   ]
  },
  {
   "cell_type": "code",
   "execution_count": 11,
   "id": "9c94ffb4-cc54-4948-a2ae-b9a0273f1986",
   "metadata": {},
   "outputs": [
    {
     "name": "stdin",
     "output_type": "stream",
     "text": [
      "Deseja utilizar intervalos pré calculados? [y/n]  y\n"
     ]
    }
   ],
   "source": [
    "intervals_origin_dir = \\\n",
    "    \"pre_calculated_truncation_intervals\" \\\n",
    "    if input(\"Deseja utilizar intervalos pré calculados? [y/n] \") == \"y\" else \"truncation_intervals\""
   ]
  },
  {
   "cell_type": "code",
   "execution_count": 12,
   "id": "6eb45688-e045-4aa2-b2e3-46ef467a4d99",
   "metadata": {},
   "outputs": [
    {
     "name": "stdout",
     "output_type": "stream",
     "text": [
      "'pre_calculated_truncation_intervals' selecionado!\n"
     ]
    }
   ],
   "source": [
    "print(f\"'{intervals_origin_dir}' selecionado!\")"
   ]
  },
  {
   "cell_type": "code",
   "execution_count": 13,
   "id": "8b551b96-1ae0-4bce-b938-15a08958103a",
   "metadata": {},
   "outputs": [],
   "source": [
    "truncation_intervals = File.get_files_from(resource=intervals_origin_dir)\n",
    "filenames = [file.replace('json', 'csv') for file in truncation_intervals]\n",
    "\n",
    "trc = Truncate(files_path=File.get_path_by(resource=\"formatted\"),\n",
    "               trunc_intervals_path=File.get_path_by(resource=intervals_origin_dir))\n",
    "\n",
    "truncated_dfs = []\n",
    "for file in filenames:\n",
    "    trc.setup_by_filename(file)\n",
    "    df = trc.truncate()\n",
    "    truncated_dfs.append(df)\n",
    "\n",
    "File.write_dataframes_in(path=File.get_path_by(resource=\"truncated\"),\n",
    "                         dataframes=truncated_dfs,\n",
    "                         filenames=filenames)"
   ]
  },
  {
   "cell_type": "markdown",
   "id": "6e899953-2cab-47f1-bc2e-feb2f34dc0f8",
   "metadata": {},
   "source": [
    "## 3. Preparando arquivos para a fase de treino da rede neural"
   ]
  },
  {
   "cell_type": "code",
   "execution_count": 1,
   "id": "419fa0fb-24ab-417f-b39a-b206b3bf8694",
   "metadata": {},
   "outputs": [],
   "source": [
    "from src.file import File\n",
    "from src.data import Continuous"
   ]
  },
  {
   "cell_type": "markdown",
   "id": "b3dd57c2-d62b-43cd-bb1f-2ab739f15a86",
   "metadata": {},
   "source": [
    "### 3.1. Separando arquivos originais em N arquivos com sinal contínuo"
   ]
  },
  {
   "cell_type": "code",
   "execution_count": 2,
   "id": "ad871c2a-e62d-4feb-889b-dc6acabd9f7b",
   "metadata": {},
   "outputs": [
    {
     "name": "stdin",
     "output_type": "stream",
     "text": [
      "Deseja utilizar intervalos pré calculados? [y/n]  y\n"
     ]
    }
   ],
   "source": [
    "intervals_origin_dir = \\\n",
    "    \"pre_calculated_truncation_intervals\" \\\n",
    "    if input(\"Deseja utilizar intervalos pré calculados? [y/n] \") == \"y\" else \"truncation_intervals\""
   ]
  },
  {
   "cell_type": "code",
   "execution_count": 3,
   "id": "c2263832-4a63-4124-abcb-aeba122f2805",
   "metadata": {},
   "outputs": [
    {
     "name": "stdout",
     "output_type": "stream",
     "text": [
      "'pre_calculated_truncation_intervals' selecionado!\n"
     ]
    }
   ],
   "source": [
    "print(f\"'{intervals_origin_dir}' selecionado!\")"
   ]
  },
  {
   "cell_type": "code",
   "execution_count": 4,
   "id": "21bca389-e533-473b-8b63-3a5820643947",
   "metadata": {},
   "outputs": [],
   "source": [
    "cnts = Continuous(input_data_path=File.get_path_by(resource=\"truncated\"),\n",
    "                  output_data_path=File.get_path_by(resource=\"continuous\"),\n",
    "                                                   truncate_intervals_path=File.get_path_by(resource=intervals_origin_dir))\n",
    "truncated = File.get_files_from(resource=\"truncated\")\n",
    "\n",
    "for file in truncated:\n",
    "    cnts.process_file(file)"
   ]
  },
  {
   "cell_type": "markdown",
   "id": "7c6346d1-348e-4286-8d7a-b8c8763da780",
   "metadata": {},
   "source": [
    "### 3.2. Adicionando arquivos não truncados junto aos fragmentos contínuos"
   ]
  },
  {
   "cell_type": "code",
   "execution_count": 5,
   "id": "8719a11f-e5f5-449e-b882-8680ec9eff5d",
   "metadata": {},
   "outputs": [],
   "source": [
    "File.add_not_fragmented_files_to_continuous()"
   ]
  },
  {
   "cell_type": "markdown",
   "id": "486cf2cd-227b-49bd-82e8-66274864bb93",
   "metadata": {},
   "source": [
    "### 3.3. Separando arquivos em treino e teste"
   ]
  },
  {
   "cell_type": "code",
   "execution_count": 6,
   "id": "8bfb0254-3205-4895-90a1-3293d0d73acf",
   "metadata": {},
   "outputs": [],
   "source": [
    "File.generate_train_test_files()"
   ]
  }
 ],
 "metadata": {
  "kernelspec": {
   "display_name": "eeg",
   "language": "python",
   "name": "eeg"
  },
  "language_info": {
   "codemirror_mode": {
    "name": "ipython",
    "version": 3
   },
   "file_extension": ".py",
   "mimetype": "text/x-python",
   "name": "python",
   "nbconvert_exporter": "python",
   "pygments_lexer": "ipython3",
   "version": "3.8.20"
  }
 },
 "nbformat": 4,
 "nbformat_minor": 5
}
