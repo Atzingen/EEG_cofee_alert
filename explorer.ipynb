{
 "cells": [
  {
   "cell_type": "markdown",
   "id": "ecd6dfe2-6072-4116-8766-40deb031ec8d",
   "metadata": {},
   "source": [
    "# EEG Explorer"
   ]
  },
  {
   "cell_type": "markdown",
   "id": "5572954f-a321-4693-8499-e5791268bbc5",
   "metadata": {},
   "source": [
    "## 1. Trabalhando com dados brutos"
   ]
  },
  {
   "cell_type": "code",
   "execution_count": 1,
   "id": "3b0cd83f-df10-496a-a5c8-b1fb032376de",
   "metadata": {},
   "outputs": [],
   "source": [
    "import ipywidgets as widgets\n",
    "import pandas as pd\n",
    "import numpy as np\n",
    "import matplotlib.pyplot as plt\n",
    "import plotly.express as px\n",
    "import scipy\n",
    "import os\n",
    "\n",
    "from src.file import File\n",
    "from src.data import Formatter"
   ]
  },
  {
   "cell_type": "markdown",
   "id": "5df34e74-3738-442f-b207-53c90fdc29d0",
   "metadata": {},
   "source": [
    "### 1.1. Importando arquivos do bucket"
   ]
  },
  {
   "cell_type": "code",
   "execution_count": 2,
   "id": "5868869a-297c-462f-94c6-3e16deea598d",
   "metadata": {},
   "outputs": [
    {
     "data": {
      "text/html": [
       "<div>\n",
       "<style scoped>\n",
       "    .dataframe tbody tr th:only-of-type {\n",
       "        vertical-align: middle;\n",
       "    }\n",
       "\n",
       "    .dataframe tbody tr th {\n",
       "        vertical-align: top;\n",
       "    }\n",
       "\n",
       "    .dataframe thead th {\n",
       "        text-align: right;\n",
       "    }\n",
       "</style>\n",
       "<table border=\"1\" class=\"dataframe\">\n",
       "  <thead>\n",
       "    <tr style=\"text-align: right;\">\n",
       "      <th></th>\n",
       "      <th>Unnamed: 0</th>\n",
       "      <th>Index</th>\n",
       "      <th>Fp1</th>\n",
       "      <th>Fp2</th>\n",
       "      <th>C3</th>\n",
       "      <th>C4</th>\n",
       "      <th>P7</th>\n",
       "      <th>P8</th>\n",
       "      <th>O1</th>\n",
       "      <th>O2</th>\n",
       "      <th>...</th>\n",
       "      <th>other.6</th>\n",
       "      <th>other.7</th>\n",
       "      <th>other.8</th>\n",
       "      <th>other.9</th>\n",
       "      <th>other.10</th>\n",
       "      <th>other.11</th>\n",
       "      <th>other.12</th>\n",
       "      <th>Timestamp</th>\n",
       "      <th>other.13</th>\n",
       "      <th>Timestamp (Formatted)</th>\n",
       "    </tr>\n",
       "  </thead>\n",
       "  <tbody>\n",
       "    <tr>\n",
       "      <th>0</th>\n",
       "      <td>0</td>\n",
       "      <td>0.0</td>\n",
       "      <td>-0.000000</td>\n",
       "      <td>-0.000000</td>\n",
       "      <td>-0.000000</td>\n",
       "      <td>-0.000000</td>\n",
       "      <td>-0.000000</td>\n",
       "      <td>-0.000000</td>\n",
       "      <td>-0.000000</td>\n",
       "      <td>-0.000000</td>\n",
       "      <td>...</td>\n",
       "      <td>28.0</td>\n",
       "      <td>32.0</td>\n",
       "      <td>1.0</td>\n",
       "      <td>128.0</td>\n",
       "      <td>0.0</td>\n",
       "      <td>0.0</td>\n",
       "      <td>0.0</td>\n",
       "      <td>1.670348e+09</td>\n",
       "      <td>0.0</td>\n",
       "      <td>2022-12-06 14:32:35.467166</td>\n",
       "    </tr>\n",
       "    <tr>\n",
       "      <th>1</th>\n",
       "      <td>1</td>\n",
       "      <td>1.0</td>\n",
       "      <td>-27263.506327</td>\n",
       "      <td>-28970.989856</td>\n",
       "      <td>10233.690426</td>\n",
       "      <td>10234.493994</td>\n",
       "      <td>10222.871660</td>\n",
       "      <td>-65185.202457</td>\n",
       "      <td>-24651.519068</td>\n",
       "      <td>-28402.612648</td>\n",
       "      <td>...</td>\n",
       "      <td>0.0</td>\n",
       "      <td>0.0</td>\n",
       "      <td>0.0</td>\n",
       "      <td>0.0</td>\n",
       "      <td>0.0</td>\n",
       "      <td>0.0</td>\n",
       "      <td>0.0</td>\n",
       "      <td>1.670348e+09</td>\n",
       "      <td>0.0</td>\n",
       "      <td>2022-12-06 14:32:35.483128</td>\n",
       "    </tr>\n",
       "    <tr>\n",
       "      <th>2</th>\n",
       "      <td>2</td>\n",
       "      <td>2.0</td>\n",
       "      <td>-110571.246920</td>\n",
       "      <td>-114105.008761</td>\n",
       "      <td>58725.746235</td>\n",
       "      <td>58736.930882</td>\n",
       "      <td>58726.703818</td>\n",
       "      <td>-1307.959726</td>\n",
       "      <td>49300.675563</td>\n",
       "      <td>48016.423156</td>\n",
       "      <td>...</td>\n",
       "      <td>0.0</td>\n",
       "      <td>0.0</td>\n",
       "      <td>0.0</td>\n",
       "      <td>0.0</td>\n",
       "      <td>0.0</td>\n",
       "      <td>0.0</td>\n",
       "      <td>0.0</td>\n",
       "      <td>1.670348e+09</td>\n",
       "      <td>0.0</td>\n",
       "      <td>2022-12-06 14:32:35.487188</td>\n",
       "    </tr>\n",
       "    <tr>\n",
       "      <th>3</th>\n",
       "      <td>3</td>\n",
       "      <td>3.0</td>\n",
       "      <td>-154142.625668</td>\n",
       "      <td>-155786.204539</td>\n",
       "      <td>70149.767671</td>\n",
       "      <td>70163.745795</td>\n",
       "      <td>70138.803896</td>\n",
       "      <td>-51118.919300</td>\n",
       "      <td>62646.308276</td>\n",
       "      <td>61035.890705</td>\n",
       "      <td>...</td>\n",
       "      <td>0.0</td>\n",
       "      <td>0.0</td>\n",
       "      <td>0.0</td>\n",
       "      <td>0.0</td>\n",
       "      <td>0.0</td>\n",
       "      <td>0.0</td>\n",
       "      <td>0.0</td>\n",
       "      <td>1.670348e+09</td>\n",
       "      <td>0.0</td>\n",
       "      <td>2022-12-06 14:32:35.490187</td>\n",
       "    </tr>\n",
       "    <tr>\n",
       "      <th>4</th>\n",
       "      <td>4</td>\n",
       "      <td>4.0</td>\n",
       "      <td>-110415.579124</td>\n",
       "      <td>-111002.382939</td>\n",
       "      <td>46598.342596</td>\n",
       "      <td>46609.843158</td>\n",
       "      <td>46588.287136</td>\n",
       "      <td>-87282.959423</td>\n",
       "      <td>14976.516493</td>\n",
       "      <td>6464.934450</td>\n",
       "      <td>...</td>\n",
       "      <td>0.0</td>\n",
       "      <td>0.0</td>\n",
       "      <td>0.0</td>\n",
       "      <td>0.0</td>\n",
       "      <td>0.0</td>\n",
       "      <td>0.0</td>\n",
       "      <td>0.0</td>\n",
       "      <td>1.670348e+09</td>\n",
       "      <td>0.0</td>\n",
       "      <td>2022-12-06 14:32:35.493189</td>\n",
       "    </tr>\n",
       "  </tbody>\n",
       "</table>\n",
       "<p>5 rows × 26 columns</p>\n",
       "</div>"
      ],
      "text/plain": [
       "   Unnamed: 0  Index            Fp1            Fp2            C3  \\\n",
       "0           0    0.0      -0.000000      -0.000000     -0.000000   \n",
       "1           1    1.0  -27263.506327  -28970.989856  10233.690426   \n",
       "2           2    2.0 -110571.246920 -114105.008761  58725.746235   \n",
       "3           3    3.0 -154142.625668 -155786.204539  70149.767671   \n",
       "4           4    4.0 -110415.579124 -111002.382939  46598.342596   \n",
       "\n",
       "             C4            P7            P8            O1            O2  ...  \\\n",
       "0     -0.000000     -0.000000     -0.000000     -0.000000     -0.000000  ...   \n",
       "1  10234.493994  10222.871660 -65185.202457 -24651.519068 -28402.612648  ...   \n",
       "2  58736.930882  58726.703818  -1307.959726  49300.675563  48016.423156  ...   \n",
       "3  70163.745795  70138.803896 -51118.919300  62646.308276  61035.890705  ...   \n",
       "4  46609.843158  46588.287136 -87282.959423  14976.516493   6464.934450  ...   \n",
       "\n",
       "   other.6  other.7  other.8  other.9  other.10  other.11  other.12  \\\n",
       "0     28.0     32.0      1.0    128.0       0.0       0.0       0.0   \n",
       "1      0.0      0.0      0.0      0.0       0.0       0.0       0.0   \n",
       "2      0.0      0.0      0.0      0.0       0.0       0.0       0.0   \n",
       "3      0.0      0.0      0.0      0.0       0.0       0.0       0.0   \n",
       "4      0.0      0.0      0.0      0.0       0.0       0.0       0.0   \n",
       "\n",
       "      Timestamp  other.13       Timestamp (Formatted)  \n",
       "0  1.670348e+09       0.0  2022-12-06 14:32:35.467166  \n",
       "1  1.670348e+09       0.0  2022-12-06 14:32:35.483128  \n",
       "2  1.670348e+09       0.0  2022-12-06 14:32:35.487188  \n",
       "3  1.670348e+09       0.0  2022-12-06 14:32:35.490187  \n",
       "4  1.670348e+09       0.0  2022-12-06 14:32:35.493189  \n",
       "\n",
       "[5 rows x 26 columns]"
      ]
     },
     "execution_count": 2,
     "metadata": {},
     "output_type": "execute_result"
    }
   ],
   "source": [
    "raw = File.get_files_from(resource=\"raw\")\n",
    "\n",
    "df = pd.read_csv(f\"{File.get_path_by(resource='raw')}/{raw[0]}\", delimiter=\"\\t\")\n",
    "df.head()"
   ]
  },
  {
   "cell_type": "markdown",
   "id": "f1077ad9-47ed-4269-9665-2572fdeb5dce",
   "metadata": {},
   "source": [
    "### 1.2. Renomeando arquivos brutos"
   ]
  },
  {
   "cell_type": "code",
   "execution_count": 3,
   "id": "abcd1a32-fca4-4fa8-a2ea-f227538d9e61",
   "metadata": {
    "scrolled": true
   },
   "outputs": [],
   "source": [
    "File.rename_raw_files()"
   ]
  },
  {
   "cell_type": "markdown",
   "id": "d0a2ef27-8d2d-476f-b161-75f31e62ef2d",
   "metadata": {},
   "source": [
    "### 1.3. Formatando os sinais"
   ]
  },
  {
   "cell_type": "code",
   "execution_count": 4,
   "id": "2c27e0fb-2b9e-423d-b728-dd61cbebc2b7",
   "metadata": {},
   "outputs": [],
   "source": [
    "renamed = File.get_files_from(resource=\"renamed\")\n",
    "dataframes = [pd.read_csv(f\"{File.get_path_by(resource='renamed')}/{file}\", delimiter=\"\\t\") for file in renamed]"
   ]
  },
  {
   "cell_type": "markdown",
   "id": "4020bc2c-1294-4027-91f5-5e4c0c56c6fd",
   "metadata": {},
   "source": [
    "#### 1.3.1. Normalizando timestamps"
   ]
  },
  {
   "cell_type": "code",
   "execution_count": 5,
   "id": "6a210001-a142-4b2a-b888-b830a47aee05",
   "metadata": {
    "scrolled": true,
    "tags": []
   },
   "outputs": [],
   "source": [
    "# df[\"Timestamp\"] = df[\"Timestamp\"] - df[\"Timestamp\"].min()\n",
    "\n",
    "dataframes = Formatter.normalize_timestamps_for(dataframes)"
   ]
  },
  {
   "cell_type": "markdown",
   "id": "0fcb078a-6b8e-488e-9046-12fa9aab861f",
   "metadata": {},
   "source": [
    "#### 1.3.2. Removendo colunas indesejadas"
   ]
  },
  {
   "cell_type": "code",
   "execution_count": 6,
   "id": "9779bb0d-f041-4634-a7c3-e0d8b06e4249",
   "metadata": {},
   "outputs": [],
   "source": [
    "# df.drop de cada coluna marcada como \"other\", \"Unnamed\" ou \"Timestamp (Formatted)\"\n",
    "\n",
    "dataframes = Formatter.remove_other_columns_for(dataframes)"
   ]
  },
  {
   "cell_type": "markdown",
   "id": "5dddf98f-38eb-4afa-ba38-431c33c695a3",
   "metadata": {},
   "source": [
    "##### DataFrame pós formatação"
   ]
  },
  {
   "cell_type": "code",
   "execution_count": 7,
   "id": "1b917097-a8b1-4726-87d7-93be87058c9b",
   "metadata": {},
   "outputs": [
    {
     "data": {
      "text/html": [
       "<div>\n",
       "<style scoped>\n",
       "    .dataframe tbody tr th:only-of-type {\n",
       "        vertical-align: middle;\n",
       "    }\n",
       "\n",
       "    .dataframe tbody tr th {\n",
       "        vertical-align: top;\n",
       "    }\n",
       "\n",
       "    .dataframe thead th {\n",
       "        text-align: right;\n",
       "    }\n",
       "</style>\n",
       "<table border=\"1\" class=\"dataframe\">\n",
       "  <thead>\n",
       "    <tr style=\"text-align: right;\">\n",
       "      <th></th>\n",
       "      <th>Index</th>\n",
       "      <th>Fp1</th>\n",
       "      <th>Fp2</th>\n",
       "      <th>C3</th>\n",
       "      <th>C4</th>\n",
       "      <th>P7</th>\n",
       "      <th>P8</th>\n",
       "      <th>O1</th>\n",
       "      <th>O2</th>\n",
       "      <th>Timestamp</th>\n",
       "    </tr>\n",
       "  </thead>\n",
       "  <tbody>\n",
       "    <tr>\n",
       "      <th>0</th>\n",
       "      <td>0.0</td>\n",
       "      <td>0.000000</td>\n",
       "      <td>0.000000</td>\n",
       "      <td>0.000000</td>\n",
       "      <td>0.000000</td>\n",
       "      <td>0.000000</td>\n",
       "      <td>0.000000</td>\n",
       "      <td>0.000000</td>\n",
       "      <td>0.000000</td>\n",
       "      <td>0.000000</td>\n",
       "    </tr>\n",
       "    <tr>\n",
       "      <th>1</th>\n",
       "      <td>1.0</td>\n",
       "      <td>-147837.835293</td>\n",
       "      <td>-128334.954779</td>\n",
       "      <td>-145905.169356</td>\n",
       "      <td>-146224.866357</td>\n",
       "      <td>-115510.104955</td>\n",
       "      <td>-137346.932274</td>\n",
       "      <td>79150.410491</td>\n",
       "      <td>-116625.501707</td>\n",
       "      <td>0.017000</td>\n",
       "    </tr>\n",
       "    <tr>\n",
       "      <th>2</th>\n",
       "      <td>2.0</td>\n",
       "      <td>-141958.745355</td>\n",
       "      <td>-134553.120679</td>\n",
       "      <td>-149981.881676</td>\n",
       "      <td>-150155.487675</td>\n",
       "      <td>-118665.210148</td>\n",
       "      <td>-146172.943255</td>\n",
       "      <td>62684.394441</td>\n",
       "      <td>-121244.355588</td>\n",
       "      <td>0.019945</td>\n",
       "    </tr>\n",
       "    <tr>\n",
       "      <th>3</th>\n",
       "      <td>3.0</td>\n",
       "      <td>-86579.571555</td>\n",
       "      <td>-99937.108152</td>\n",
       "      <td>-100662.779887</td>\n",
       "      <td>-100315.165557</td>\n",
       "      <td>-112596.666824</td>\n",
       "      <td>-106055.987603</td>\n",
       "      <td>-25638.121443</td>\n",
       "      <td>-111502.660692</td>\n",
       "      <td>0.022997</td>\n",
       "    </tr>\n",
       "    <tr>\n",
       "      <th>4</th>\n",
       "      <td>4.0</td>\n",
       "      <td>-86704.718972</td>\n",
       "      <td>-89918.341031</td>\n",
       "      <td>-90199.056589</td>\n",
       "      <td>-89976.924953</td>\n",
       "      <td>-107100.439918</td>\n",
       "      <td>-92472.944256</td>\n",
       "      <td>-5784.452651</td>\n",
       "      <td>-105001.432300</td>\n",
       "      <td>0.027965</td>\n",
       "    </tr>\n",
       "  </tbody>\n",
       "</table>\n",
       "</div>"
      ],
      "text/plain": [
       "   Index            Fp1            Fp2             C3             C4  \\\n",
       "0    0.0       0.000000       0.000000       0.000000       0.000000   \n",
       "1    1.0 -147837.835293 -128334.954779 -145905.169356 -146224.866357   \n",
       "2    2.0 -141958.745355 -134553.120679 -149981.881676 -150155.487675   \n",
       "3    3.0  -86579.571555  -99937.108152 -100662.779887 -100315.165557   \n",
       "4    4.0  -86704.718972  -89918.341031  -90199.056589  -89976.924953   \n",
       "\n",
       "              P7             P8            O1             O2  Timestamp  \n",
       "0       0.000000       0.000000      0.000000       0.000000   0.000000  \n",
       "1 -115510.104955 -137346.932274  79150.410491 -116625.501707   0.017000  \n",
       "2 -118665.210148 -146172.943255  62684.394441 -121244.355588   0.019945  \n",
       "3 -112596.666824 -106055.987603 -25638.121443 -111502.660692   0.022997  \n",
       "4 -107100.439918  -92472.944256  -5784.452651 -105001.432300   0.027965  "
      ]
     },
     "execution_count": 7,
     "metadata": {},
     "output_type": "execute_result"
    }
   ],
   "source": [
    "dataframes[0].head()"
   ]
  },
  {
   "cell_type": "code",
   "execution_count": 8,
   "id": "0ae4fcfc-16d1-45f8-a973-8a0da1c27a64",
   "metadata": {},
   "outputs": [],
   "source": [
    "File.write_dataframes_in(path=File.get_path_by(resource=\"formatted\"),\n",
    "                         dataframes=dataframes,\n",
    "                         filenames=renamed)"
   ]
  },
  {
   "cell_type": "markdown",
   "id": "72afb08d-e7a1-46cd-ab18-e35f00bc1c1d",
   "metadata": {},
   "source": [
    "### 1.4. Visualização dos sinais"
   ]
  },
  {
   "cell_type": "code",
   "execution_count": 9,
   "id": "5143c34e-3016-4cfb-b827-858261b8c00a",
   "metadata": {},
   "outputs": [
    {
     "data": {
      "application/vnd.jupyter.widget-view+json": {
       "model_id": "c7d68366c175492f8e201f5cdec548a7",
       "version_major": 2,
       "version_minor": 0
      },
      "text/plain": [
       "VBox(children=(HBox(children=(Combobox(value='react_5.csv', description='Arquivo', options=('react_5.csv', 'ch…"
      ]
     },
     "execution_count": 9,
     "metadata": {},
     "output_type": "execute_result"
    }
   ],
   "source": [
    "# Dependências\n",
    "filenames = File.get_files_from(resource=\"formatted\")\n",
    "channels = [\"Fp1\", \"Fp2\", \"C3\", \"C4\", \"P7\", \"P8\", \"O1\", \"O2\"]\n",
    "\n",
    "# Widgets\n",
    "window_widget = widgets.IntSlider(min=1,\n",
    "                                  max=1000,\n",
    "                                  step=10,\n",
    "                                  value=50,\n",
    "                                  description=\"Janela\")\n",
    "file_widget = widgets.Combobox(options=filenames, \n",
    "                               value=filenames[0],\n",
    "                               description=\"Arquivo\")\n",
    "channel_widget = widgets.Dropdown(options=channels,\n",
    "                                  value=channels[0],\n",
    "                                  description=\"Canal\")\n",
    "\n",
    "# Função de plotagem\n",
    "def plot_signal(file, channel, window):\n",
    "    delta = window\n",
    "    df = pd.read_csv(f\"{File.get_path_by(resource='formatted')}/{file}\", delimiter=\",\")\n",
    "    timestamps = df[\"Timestamp\"].to_numpy()\n",
    "    channel_data = df[channel].to_numpy()\n",
    "    \n",
    "    moving_average = np.convolve(channel_data, np.ones(512)/512, mode=\"valid\")\n",
    "    first_derivative = 100*(moving_average[:-delta] - moving_average[delta:])/delta\n",
    "    fig = px.line(x=timestamps[:len(first_derivative)],\n",
    "                  y=[channel_data[:len(first_derivative)],\n",
    "                     moving_average[:len(first_derivative)],\n",
    "                     first_derivative])\n",
    "    fig.update_yaxes(range=[moving_average[10]-5E3, moving_average[10]+5E3])\n",
    "    fig.show()\n",
    "\n",
    "# Display dos widgets\n",
    "out = widgets.interactive_output(plot_signal, \n",
    "                                 {\"file\": file_widget, \n",
    "                                  \"channel\": channel_widget, \n",
    "                                  \"window\": window_widget})\n",
    "\n",
    "widgets.VBox([widgets.HBox([file_widget, channel_widget, window_widget]), out])"
   ]
  },
  {
   "cell_type": "markdown",
   "id": "7ebfa0ef-1133-40b4-b762-e092d13c8d9f",
   "metadata": {},
   "source": [
    "## 2. Filtrando trechos indesejados dos sinais"
   ]
  },
  {
   "cell_type": "code",
   "execution_count": 10,
   "id": "683b5b02-8187-4868-96e5-028c9e5d082f",
   "metadata": {},
   "outputs": [],
   "source": [
    "import ipywidgets as widgets\n",
    "import os\n",
    "\n",
    "from src.file import File\n",
    "from src.data import Truncate\n",
    "from src.data import TruncateIntervals\n",
    "from src.data import Plotter"
   ]
  },
  {
   "cell_type": "markdown",
   "id": "e70be2a2-f1b9-432a-af6e-f33a18ad65f1",
   "metadata": {},
   "source": [
    "### 2.1. Seleção de intervalos com os trechos indesejados para cada sinal"
   ]
  },
  {
   "cell_type": "markdown",
   "id": "3d19a2d7-1b3b-41f0-8f6b-ebd7a3c56c2f",
   "metadata": {},
   "source": [
    "#### 2.1.1. Selecionando trechos de maneira interativa"
   ]
  },
  {
   "cell_type": "code",
   "execution_count": 11,
   "id": "3268d842-81cf-4096-8fd5-48fa3d1deae0",
   "metadata": {},
   "outputs": [
    {
     "data": {
      "application/vnd.jupyter.widget-view+json": {
       "model_id": "d21bf0d5a60542a69ecba19e33d6d70b",
       "version_major": 2,
       "version_minor": 0
      },
      "text/plain": [
       "HBox(children=(Combobox(value='react_5.csv', description='Arquivo', layout=Layout(width='300px'), options=('re…"
      ]
     },
     "metadata": {},
     "output_type": "display_data"
    },
    {
     "data": {
      "application/vnd.jupyter.widget-view+json": {
       "model_id": "1f50a5285cd247ebaa61d8895666f0ea",
       "version_major": 2,
       "version_minor": 0
      },
      "text/plain": [
       "Output()"
      ]
     },
     "metadata": {},
     "output_type": "display_data"
    },
    {
     "data": {
      "application/vnd.jupyter.widget-view+json": {
       "model_id": "002d92a5bdb94d7c8c6fe8e95a776c12",
       "version_major": 2,
       "version_minor": 0
      },
      "text/plain": [
       "HBox(children=(Label(value='Intervalo de corte'), FloatText(value=0.0, layout=Layout(width='100px')), FloatTex…"
      ]
     },
     "metadata": {},
     "output_type": "display_data"
    }
   ],
   "source": [
    "# Dependências\n",
    "output = widgets.Output()\n",
    "trunc_intervals = TruncateIntervals(truncate_intervals_path=File.get_path_by(resource=\"truncation_intervals\"))\n",
    "plotter = Plotter(files_path=File.get_path_by(resource=\"formatted\"),\n",
    "                  output=output)\n",
    "filenames = File.get_files_from(resource=\"formatted\")\n",
    "channels = [\"Fp1\", \"Fp2\", \"C3\", \"C4\", \"P7\", \"P8\", \"O1\", \"O2\"]\n",
    "\n",
    "file_widget_changed = False\n",
    "channel_widget_changed = False\n",
    "\n",
    "# Widgets\n",
    "file_w = widgets.Combobox(options=filenames,\n",
    "                          value=filenames[0],\n",
    "                          description=\"Arquivo\",\n",
    "                          layout=widgets.Layout(width=\"300px\"))\n",
    "channel_w = widgets.Dropdown(options=channels,\n",
    "                             value = channels[0],\n",
    "                             description=\"Canal\",\n",
    "                             layout=widgets.Layout(width = \"300px\"))\n",
    "refresh_btn_w = widgets.Button(description=\"Refresh\",\n",
    "                               layout=widgets.Layout(width = \"70px\"))\n",
    "refresh_btn_w.layout.margin = \"0px 0px 0px 50px\"\n",
    "\n",
    "signal_controller_hboxw = widgets.HBox([file_w, channel_w, refresh_btn_w])\n",
    "\n",
    "label_w = widgets.Label(value=\"Intervalo de corte\")\n",
    "bottom_limit_w = widgets.FloatText(layout=widgets.Layout(width=\"100px\"))\n",
    "top_limit_w = widgets.FloatText(layout = widgets.Layout(width=\"100px\"))\n",
    "add_interval_btn_w = widgets.Button(description=\"Add\",\n",
    "                                    layout=widgets.Layout(width=\"70px\"))\n",
    "pop_interval_btn_w = widgets.Button(description=\"Pop\",\n",
    "                                    layout=widgets.Layout(width=\"70px\"))\n",
    "save_interval_btn_w = widgets.Button(description=\"Save\",\n",
    "                                     layout=widgets.Layout(width=\"70px\"))\n",
    "\n",
    "trunc_intervals_hboxw = widgets.HBox([label_w,\n",
    "                                      bottom_limit_w,\n",
    "                                      top_limit_w,\n",
    "                                      add_interval_btn_w,\n",
    "                                      pop_interval_btn_w,\n",
    "                                      save_interval_btn_w],\n",
    "                                     layout=widgets.Layout(justify_content='center'))\n",
    "\n",
    "# Definição de eventos para os widgets\n",
    "def file_widget_change_handler(change):\n",
    "    global file_widget_changed\n",
    "    if change[\"type\"] == \"change\" and change[\"name\"] == \"value\":\n",
    "        file_widget_changed = True\n",
    "\n",
    "def channel_widget_change_handler(change):\n",
    "    global channel_widget_changed\n",
    "    if change[\"type\"] == \"change\" and change[\"name\"] == \"value\":\n",
    "        channel_widget_changed = True\n",
    "\n",
    "def refresh_button_clicked(btn):\n",
    "    global file_widget_changed\n",
    "    global channel_widget_changed\n",
    "    if file_widget_changed:\n",
    "        trunc_intervals.save_current_file_intervals()\n",
    "        trunc_intervals.load_file_intervals(file_w.value)\n",
    "        plotter.load_signal(file_w.value, channel_w.value)\n",
    "        plotter.plot_signal(trunc_intervals.get_channel_intervals(channel_w.value))\n",
    "        file_widget_changed = False\n",
    "        channel_widget_changed = False\n",
    "    elif channel_widget_changed:\n",
    "        plotter.change_current_fig(channel_w.value)\n",
    "        plotter.plot_signal(trunc_intervals.get_channel_intervals(channel_w.value))\n",
    "        channel_widget_changed = False\n",
    "\n",
    "def add_intervals_clicked(btn):\n",
    "    start = bottom_limit_w.value\n",
    "    end = top_limit_w.value\n",
    "    trunc_intervals.add_interval_by_channel(channel_w.value, start, end)\n",
    "    plotter.plot_signal(trunc_intervals.get_channel_intervals(channel_w.value))\n",
    "\n",
    "def pop_intervals_clicked(btn):\n",
    "    trunc_intervals.pop_interval_by_channel(channel_w.value)\n",
    "    plotter.plot_signal(trunc_intervals.get_channel_intervals(channel_w.value))\n",
    "\n",
    "def save_intervals_clicked(btn):\n",
    "    trunc_intervals.save_current_file_intervals()\n",
    "\n",
    "file_w.observe(file_widget_change_handler)\n",
    "channel_w.observe(channel_widget_change_handler)\n",
    "refresh_btn_w.on_click(refresh_button_clicked)\n",
    "add_interval_btn_w.on_click(add_intervals_clicked)\n",
    "pop_interval_btn_w.on_click(pop_intervals_clicked)\n",
    "save_interval_btn_w.on_click(save_intervals_clicked)\n",
    "\n",
    "# Display dos widgets\n",
    "trunc_intervals.load_file_intervals(file_w.value)\n",
    "plotter.load_signal(file_w.value, channel_w.value)\n",
    "plotter.plot_signal(trunc_intervals.get_channel_intervals(channel_w.value))\n",
    "\n",
    "display(signal_controller_hboxw, output, trunc_intervals_hboxw)"
   ]
  },
  {
   "cell_type": "markdown",
   "id": "ec2d5d28-4eb5-4a1b-bd3d-9fec7027d498",
   "metadata": {},
   "source": [
    "### 2.2. Truncamento dos sinais originais a partir dos intervalos selecionados"
   ]
  },
  {
   "cell_type": "code",
   "execution_count": 12,
   "id": "9c94ffb4-cc54-4948-a2ae-b9a0273f1986",
   "metadata": {},
   "outputs": [
    {
     "name": "stdin",
     "output_type": "stream",
     "text": [
      "Deseja utilizar intervalos pré calculados? [y/n]  y\n"
     ]
    }
   ],
   "source": [
    "intervals_origin_dir = \\\n",
    "    \"pre_calculated_truncation_intervals\" \\\n",
    "    if input(\"Deseja utilizar intervalos pré calculados? [y/n] \") == \"y\" else \"truncation_intervals\""
   ]
  },
  {
   "cell_type": "code",
   "execution_count": 13,
   "id": "6eb45688-e045-4aa2-b2e3-46ef467a4d99",
   "metadata": {},
   "outputs": [
    {
     "name": "stdout",
     "output_type": "stream",
     "text": [
      "'pre_calculated_truncation_intervals' selecionado!\n"
     ]
    }
   ],
   "source": [
    "print(f\"'{intervals_origin_dir}' selecionado!\")"
   ]
  },
  {
   "cell_type": "code",
   "execution_count": 14,
   "id": "8b551b96-1ae0-4bce-b938-15a08958103a",
   "metadata": {},
   "outputs": [],
   "source": [
    "truncation_intervals = File.get_files_from(resource=intervals_origin_dir)\n",
    "filenames = [file.replace('json', 'csv') for file in truncation_intervals]\n",
    "\n",
    "trc = Truncate(files_path=File.get_path_by(resource=\"formatted\"),\n",
    "               trunc_intervals_path=File.get_path_by(resource=intervals_origin_dir))\n",
    "\n",
    "truncated_dfs = []\n",
    "for file in filenames:\n",
    "    trc.setup_by_filename(file)\n",
    "    df = trc.truncate()\n",
    "    truncated_dfs.append(df)\n",
    "\n",
    "File.write_dataframes_in(path=File.get_path_by(resource=\"truncated\"),\n",
    "                         dataframes=truncated_dfs,\n",
    "                         filenames=filenames)"
   ]
  },
  {
   "cell_type": "markdown",
   "id": "6e899953-2cab-47f1-bc2e-feb2f34dc0f8",
   "metadata": {},
   "source": [
    "## 3. Preparando arquivos para a fase de treino da rede neural"
   ]
  },
  {
   "cell_type": "code",
   "execution_count": 15,
   "id": "419fa0fb-24ab-417f-b39a-b206b3bf8694",
   "metadata": {},
   "outputs": [],
   "source": [
    "from src.file import File\n",
    "from src.data import Continuous"
   ]
  },
  {
   "cell_type": "markdown",
   "id": "b3dd57c2-d62b-43cd-bb1f-2ab739f15a86",
   "metadata": {},
   "source": [
    "### 3.1. Separando arquivos originais em N arquivos com sinal contínuo"
   ]
  },
  {
   "cell_type": "code",
   "execution_count": 16,
   "id": "ad871c2a-e62d-4feb-889b-dc6acabd9f7b",
   "metadata": {},
   "outputs": [
    {
     "name": "stdin",
     "output_type": "stream",
     "text": [
      "Deseja utilizar intervalos pré calculados? [y/n]  y\n"
     ]
    }
   ],
   "source": [
    "intervals_origin_dir = \\\n",
    "    \"pre_calculated_truncation_intervals\" \\\n",
    "    if input(\"Deseja utilizar intervalos pré calculados? [y/n] \") == \"y\" else \"truncation_intervals\""
   ]
  },
  {
   "cell_type": "code",
   "execution_count": 17,
   "id": "c2263832-4a63-4124-abcb-aeba122f2805",
   "metadata": {},
   "outputs": [
    {
     "name": "stdout",
     "output_type": "stream",
     "text": [
      "'pre_calculated_truncation_intervals' selecionado!\n"
     ]
    }
   ],
   "source": [
    "print(f\"'{intervals_origin_dir}' selecionado!\")"
   ]
  },
  {
   "cell_type": "code",
   "execution_count": 18,
   "id": "21bca389-e533-473b-8b63-3a5820643947",
   "metadata": {},
   "outputs": [],
   "source": [
    "cnts = Continuous(input_data_path=File.get_path_by(resource=\"truncated\"),\n",
    "                  output_data_path=File.get_path_by(resource=\"continuous\"),\n",
    "                                                   truncate_intervals_path=File.get_path_by(resource=intervals_origin_dir))\n",
    "truncated = File.get_files_from(resource=\"truncated\")\n",
    "\n",
    "for file in truncated:\n",
    "    cnts.process_file(file)"
   ]
  },
  {
   "cell_type": "markdown",
   "id": "7c6346d1-348e-4286-8d7a-b8c8763da780",
   "metadata": {},
   "source": [
    "### 3.2. Adicionando arquivos não truncados junto aos fragmentos contínuos"
   ]
  },
  {
   "cell_type": "code",
   "execution_count": 19,
   "id": "8719a11f-e5f5-449e-b882-8680ec9eff5d",
   "metadata": {},
   "outputs": [],
   "source": [
    "File.add_not_fragmented_files_to_continuous()"
   ]
  },
  {
   "cell_type": "markdown",
   "id": "486cf2cd-227b-49bd-82e8-66274864bb93",
   "metadata": {},
   "source": [
    "### 3.3. Separando arquivos em treino e teste"
   ]
  },
  {
   "cell_type": "code",
   "execution_count": 20,
   "id": "8bfb0254-3205-4895-90a1-3293d0d73acf",
   "metadata": {},
   "outputs": [],
   "source": [
    "File.generate_train_test_files()"
   ]
  },
  {
   "cell_type": "markdown",
   "id": "79c13df2-cb10-4556-a449-8901ce625265",
   "metadata": {},
   "source": [
    "## 4. Preparando o input da rede e multiplicando a quantidade de dados"
   ]
  },
  {
   "cell_type": "code",
   "execution_count": 8,
   "id": "e62d9e4c-da70-4cf7-bcbd-09addeb3a662",
   "metadata": {},
   "outputs": [],
   "source": [
    "from src.file import File\n",
    "from src.data import Windowing\n",
    "import datetime\n",
    "import os\n",
    "\n",
    "import tensorflow as tf\n",
    "from tensorflow.keras.callbacks import EarlyStopping\n",
    "from tensorflow import keras\n",
    "from tensorflow.keras import layers\n",
    "\n",
    "from sklearn.model_selection import train_test_split"
   ]
  },
  {
   "cell_type": "markdown",
   "id": "ef0a6db7-b535-4f79-8dad-1484cf969029",
   "metadata": {},
   "source": [
    "### 4.1. Conferindo a disponibilidade de uma GPU"
   ]
  },
  {
   "cell_type": "code",
   "execution_count": 4,
   "id": "c3e1df05-94ee-4c81-957d-e8d59d9d7112",
   "metadata": {},
   "outputs": [
    {
     "name": "stdout",
     "output_type": "stream",
     "text": [
      "GPUs disponíveis: 1\n",
      "  - PhysicalDevice(name='/physical_device:GPU:0', device_type='GPU')\n"
     ]
    }
   ],
   "source": [
    "gpus = tf.config.list_physical_devices('GPU')\n",
    "\n",
    "if gpus:\n",
    "    print(f\"GPUs disponíveis: {len(gpus)}\")\n",
    "    for gpu in gpus:\n",
    "        print(f\"  - {gpu}\")\n",
    "else:\n",
    "    print(\"Nenhuma GPU encontrada. O TensorFlow está usando a CPU.\")"
   ]
  },
  {
   "cell_type": "markdown",
   "id": "31c7486f-354e-49a3-881e-e71e05707c1a",
   "metadata": {},
   "source": [
    "### 4.2. Janelamento dos dados"
   ]
  },
  {
   "cell_type": "code",
   "execution_count": 5,
   "id": "bef1bd26-f758-4359-b236-b9935fc8ca08",
   "metadata": {},
   "outputs": [],
   "source": [
    "windowing = Windowing(input_data_path=File.get_path_by(resource=\"pre_training\", subdirs=\"cafe/train\"), window_channels=[\"C3\"], window_size=255, normalize=True)\n",
    "x_all, y_all = windowing.process()\n",
    "\n",
    "windowing.set_input_data_path(input_data_path=File.get_path_by(resource=\"pre_training\", subdirs=\"cafe/test\"))\n",
    "\n",
    "x_test, y_test = windowing.process()"
   ]
  },
  {
   "cell_type": "markdown",
   "id": "833761d9-a6d4-486b-b51c-e4caaad6ce2b",
   "metadata": {},
   "source": [
    "### 4.2. Separando dados de treino e validação"
   ]
  },
  {
   "cell_type": "code",
   "execution_count": 6,
   "id": "0611813f-c7e0-4dc9-b613-db8b90bde123",
   "metadata": {},
   "outputs": [],
   "source": [
    "x_train, x_validation, y_train, y_validation = train_test_split(x_all, y_all, test_size=0.3, random_state=1024)"
   ]
  },
  {
   "cell_type": "markdown",
   "id": "87799e16-cf1d-4261-92a8-5d910bef0029",
   "metadata": {},
   "source": [
    "### 4.3. Criando a rede neural"
   ]
  },
  {
   "cell_type": "code",
   "execution_count": 9,
   "id": "6101df1d-f220-4011-9d6e-e5fc885e57eb",
   "metadata": {},
   "outputs": [
    {
     "name": "stderr",
     "output_type": "stream",
     "text": [
      "/home/edson/miniconda3/envs/eeg3/lib/python3.11/site-packages/keras/src/layers/convolutional/base_conv.py:107: UserWarning: Do not pass an `input_shape`/`input_dim` argument to a layer. When using Sequential models, prefer using an `Input(shape)` object as the first layer in the model instead.\n",
      "  super().__init__(activity_regularizer=activity_regularizer, **kwargs)\n",
      "I0000 00:00:1736473585.211234   90410 gpu_device.cc:2022] Created device /job:localhost/replica:0/task:0/device:GPU:0 with 5529 MB memory:  -> device: 0, name: NVIDIA GeForce RTX 4060 Ti, pci bus id: 0000:2b:00.0, compute capability: 8.9\n"
     ]
    },
    {
     "name": "stdout",
     "output_type": "stream",
     "text": [
      "Epoch 1/10\n"
     ]
    },
    {
     "name": "stderr",
     "output_type": "stream",
     "text": [
      "WARNING: All log messages before absl::InitializeLog() is called are written to STDERR\n",
      "I0000 00:00:1736473590.276561   91121 service.cc:148] XLA service 0x7f38b4008000 initialized for platform CUDA (this does not guarantee that XLA will be used). Devices:\n",
      "I0000 00:00:1736473590.276863   91121 service.cc:156]   StreamExecutor device (0): NVIDIA GeForce RTX 4060 Ti, Compute Capability 8.9\n",
      "2025-01-09 22:46:30.306076: I tensorflow/compiler/mlir/tensorflow/utils/dump_mlir_util.cc:268] disabling MLIR crash reproducer, set env var `MLIR_CRASH_REPRODUCER_DIRECTORY` to enable.\n",
      "I0000 00:00:1736473590.424119   91121 cuda_dnn.cc:529] Loaded cuDNN version 90300\n",
      "2025-01-09 22:46:31.046878: W external/local_xla/xla/tsl/framework/bfc_allocator.cc:306] Allocator (GPU_0_bfc) ran out of memory trying to allocate 32.57GiB with freed_by_count=0. The caller indicates that this is not a failure, but this may mean that there could be performance gains if more memory were available.\n"
     ]
    },
    {
     "name": "stdout",
     "output_type": "stream",
     "text": [
      "\u001b[1m  6/237\u001b[0m \u001b[37m━━━━━━━━━━━━━━━━━━━━\u001b[0m \u001b[1m2s\u001b[0m 11ms/step - accuracy: 0.5498 - loss: 0.7749"
     ]
    },
    {
     "name": "stderr",
     "output_type": "stream",
     "text": [
      "I0000 00:00:1736473591.444639   91121 device_compiler.h:188] Compiled cluster using XLA!  This line is logged at most once for the lifetime of the process.\n"
     ]
    },
    {
     "name": "stdout",
     "output_type": "stream",
     "text": [
      "\u001b[1m236/237\u001b[0m \u001b[32m━━━━━━━━━━━━━━━━━━━\u001b[0m\u001b[37m━\u001b[0m \u001b[1m0s\u001b[0m 8ms/step - accuracy: 0.5947 - loss: 0.6741 "
     ]
    },
    {
     "name": "stderr",
     "output_type": "stream",
     "text": [
      "2025-01-09 22:46:33.778264: W external/local_xla/xla/tsl/framework/bfc_allocator.cc:306] Allocator (GPU_0_bfc) ran out of memory trying to allocate 9.55GiB with freed_by_count=0. The caller indicates that this is not a failure, but this may mean that there could be performance gains if more memory were available.\n"
     ]
    },
    {
     "name": "stdout",
     "output_type": "stream",
     "text": [
      "\u001b[1m237/237\u001b[0m \u001b[32m━━━━━━━━━━━━━━━━━━━━\u001b[0m\u001b[37m\u001b[0m \u001b[1m5s\u001b[0m 15ms/step - accuracy: 0.5949 - loss: 0.6740 - val_accuracy: 0.6550 - val_loss: 0.6384\n",
      "Epoch 2/10\n",
      "\u001b[1m237/237\u001b[0m \u001b[32m━━━━━━━━━━━━━━━━━━━━\u001b[0m\u001b[37m\u001b[0m \u001b[1m2s\u001b[0m 10ms/step - accuracy: 0.6581 - loss: 0.6316 - val_accuracy: 0.6922 - val_loss: 0.5891\n",
      "Epoch 3/10\n",
      "\u001b[1m237/237\u001b[0m \u001b[32m━━━━━━━━━━━━━━━━━━━━\u001b[0m\u001b[37m\u001b[0m \u001b[1m2s\u001b[0m 10ms/step - accuracy: 0.6945 - loss: 0.5898 - val_accuracy: 0.7054 - val_loss: 0.5808\n",
      "Epoch 4/10\n",
      "\u001b[1m237/237\u001b[0m \u001b[32m━━━━━━━━━━━━━━━━━━━━\u001b[0m\u001b[37m\u001b[0m \u001b[1m2s\u001b[0m 10ms/step - accuracy: 0.7077 - loss: 0.5769 - val_accuracy: 0.7078 - val_loss: 0.5820\n",
      "Epoch 5/10\n",
      "\u001b[1m237/237\u001b[0m \u001b[32m━━━━━━━━━━━━━━━━━━━━\u001b[0m\u001b[37m\u001b[0m \u001b[1m2s\u001b[0m 10ms/step - accuracy: 0.7213 - loss: 0.5598 - val_accuracy: 0.7287 - val_loss: 0.5512\n",
      "Epoch 6/10\n",
      "\u001b[1m237/237\u001b[0m \u001b[32m━━━━━━━━━━━━━━━━━━━━\u001b[0m\u001b[37m\u001b[0m \u001b[1m2s\u001b[0m 9ms/step - accuracy: 0.7244 - loss: 0.5534 - val_accuracy: 0.7220 - val_loss: 0.5421\n",
      "Epoch 7/10\n",
      "\u001b[1m237/237\u001b[0m \u001b[32m━━━━━━━━━━━━━━━━━━━━\u001b[0m\u001b[37m\u001b[0m \u001b[1m2s\u001b[0m 9ms/step - accuracy: 0.7282 - loss: 0.5417 - val_accuracy: 0.7324 - val_loss: 0.5298\n",
      "Epoch 8/10\n",
      "\u001b[1m237/237\u001b[0m \u001b[32m━━━━━━━━━━━━━━━━━━━━\u001b[0m\u001b[37m\u001b[0m \u001b[1m2s\u001b[0m 9ms/step - accuracy: 0.7341 - loss: 0.5311 - val_accuracy: 0.7342 - val_loss: 0.5284\n",
      "Epoch 9/10\n",
      "\u001b[1m237/237\u001b[0m \u001b[32m━━━━━━━━━━━━━━━━━━━━\u001b[0m\u001b[37m\u001b[0m \u001b[1m2s\u001b[0m 10ms/step - accuracy: 0.7323 - loss: 0.5246 - val_accuracy: 0.7288 - val_loss: 0.5272\n",
      "Epoch 10/10\n",
      "\u001b[1m237/237\u001b[0m \u001b[32m━━━━━━━━━━━━━━━━━━━━\u001b[0m\u001b[37m\u001b[0m \u001b[1m1s\u001b[0m 5ms/step - accuracy: 0.7350 - loss: 0.5174 - val_accuracy: 0.7404 - val_loss: 0.5033\n"
     ]
    },
    {
     "data": {
      "text/plain": [
       "<keras.src.callbacks.history.History at 0x7f39bf311450>"
      ]
     },
     "execution_count": 9,
     "metadata": {},
     "output_type": "execute_result"
    }
   ],
   "source": [
    "early_stopping = EarlyStopping(monitor='val_loss', patience=3)\n",
    "logdir = os.path.join(\"logs\", datetime.datetime.now().strftime(\"%Y%m%d-%H%M%S\"))\n",
    "tensorboard_callback = tf.keras.callbacks.TensorBoard(logdir, histogram_freq=1)\n",
    "\n",
    "model = keras.Sequential()\n",
    "model.add(layers.Conv1D(128, 50, strides=1, padding='valid', activation='relu', input_shape=(255,1)))\n",
    "model.add(layers.MaxPooling1D(pool_size=2))\n",
    "model.add(layers.Flatten())\n",
    "model.add(layers.Dense(50, activation='relu'))\n",
    "model.add(layers.Dense(1, activation='sigmoid'))\n",
    "model.compile(loss='binary_crossentropy', optimizer='adam', metrics=['accuracy'])\n",
    "model.fit(x_train, y_train, validation_data=(x_validation, y_validation), \n",
    "          epochs=10, batch_size=512, verbose=1, shuffle=True, \n",
    "          callbacks=[early_stopping, tensorboard_callback])"
   ]
  },
  {
   "cell_type": "code",
   "execution_count": 10,
   "id": "c4ba071a-ec50-4163-aa61-6502dffbcb5c",
   "metadata": {},
   "outputs": [
    {
     "name": "stdout",
     "output_type": "stream",
     "text": [
      "\u001b[1m1760/1760\u001b[0m \u001b[32m━━━━━━━━━━━━━━━━━━━━\u001b[0m\u001b[37m\u001b[0m \u001b[1m4s\u001b[0m 2ms/step - accuracy: 0.5732 - loss: 0.7159\n",
      "Loss: 0.7161311507225037\n",
      "Accuracy: 0.5713626146316528\n"
     ]
    }
   ],
   "source": [
    "loss, accuracy = model.evaluate(x_test, y_test)\n",
    "\n",
    "print(f\"Loss: {loss}\")\n",
    "print(f\"Accuracy: {accuracy}\")"
   ]
  },
  {
   "cell_type": "code",
   "execution_count": null,
   "id": "2bcd0c79-2488-41f6-b002-8f0fd5fda771",
   "metadata": {},
   "outputs": [],
   "source": []
  }
 ],
 "metadata": {
  "kernelspec": {
   "display_name": "Python 3 (ipykernel)",
   "language": "python",
   "name": "python3"
  },
  "language_info": {
   "codemirror_mode": {
    "name": "ipython",
    "version": 3
   },
   "file_extension": ".py",
   "mimetype": "text/x-python",
   "name": "python",
   "nbconvert_exporter": "python",
   "pygments_lexer": "ipython3",
   "version": "3.11.11"
  }
 },
 "nbformat": 4,
 "nbformat_minor": 5
}
