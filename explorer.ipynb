{
 "cells": [
  {
   "cell_type": "markdown",
   "id": "ecd6dfe2-6072-4116-8766-40deb031ec8d",
   "metadata": {},
   "source": [
    "# EEG"
   ]
  },
  {
   "cell_type": "code",
   "execution_count": 1,
   "id": "10b03215-8891-4a87-8398-dd92bd95d8d7",
   "metadata": {},
   "outputs": [],
   "source": [
    "import os, sys\n",
    "import pandas as pd\n",
    "import numpy as np\n",
    "import scipy\n",
    "import matplotlib.pyplot as plt\n",
    "import plotly.express as px\n",
    "\n",
    "from ipywidgets import interact, interactive, fixed, interact_manual\n",
    "import ipywidgets as widgets"
   ]
  },
  {
   "cell_type": "markdown",
   "id": "c9a48cb8-4e4a-4298-a0cf-4da0d1a77c58",
   "metadata": {},
   "source": [
    "### Importação dos arquivos do bucket"
   ]
  },
  {
   "cell_type": "markdown",
   "id": "2ef25848-cee7-4a3a-a05a-0316859e0187",
   "metadata": {},
   "source": [
    "### Verificação de importação dos arquivos"
   ]
  },
  {
   "cell_type": "code",
   "execution_count": 2,
   "id": "de4b38fa-1ee4-4c25-bfb8-2e1423132b00",
   "metadata": {},
   "outputs": [],
   "source": [
    "# TROCAR CAMINHO DE IMPORTAÇÃO\n",
    "files_path = './dataset_eeg_cafe2022/RenamedFiles'\n",
    "files = [file for file in os.listdir(files_path) if '.csv' in file]\n",
    "\n",
    "if len(files) == 0:\n",
    "    print('Sem dados no diretório especificado.')\n",
    "    exit()"
   ]
  },
  {
   "cell_type": "markdown",
   "id": "5572954f-a321-4693-8499-e5791268bbc5",
   "metadata": {},
   "source": [
    "#### Visualização de um sample de dados"
   ]
  },
  {
   "cell_type": "code",
   "execution_count": 3,
   "id": "5868869a-297c-462f-94c6-3e16deea598d",
   "metadata": {},
   "outputs": [
    {
     "data": {
      "text/html": [
       "<div>\n",
       "<style scoped>\n",
       "    .dataframe tbody tr th:only-of-type {\n",
       "        vertical-align: middle;\n",
       "    }\n",
       "\n",
       "    .dataframe tbody tr th {\n",
       "        vertical-align: top;\n",
       "    }\n",
       "\n",
       "    .dataframe thead th {\n",
       "        text-align: right;\n",
       "    }\n",
       "</style>\n",
       "<table border=\"1\" class=\"dataframe\">\n",
       "  <thead>\n",
       "    <tr style=\"text-align: right;\">\n",
       "      <th></th>\n",
       "      <th>Unnamed: 0</th>\n",
       "      <th>Index</th>\n",
       "      <th>Fp1</th>\n",
       "      <th>Fp2</th>\n",
       "      <th>C3</th>\n",
       "      <th>C4</th>\n",
       "      <th>P7</th>\n",
       "      <th>P8</th>\n",
       "      <th>O1</th>\n",
       "      <th>O2</th>\n",
       "      <th>Timestamp</th>\n",
       "    </tr>\n",
       "  </thead>\n",
       "  <tbody>\n",
       "    <tr>\n",
       "      <th>0</th>\n",
       "      <td>0</td>\n",
       "      <td>0.0</td>\n",
       "      <td>-0.000000</td>\n",
       "      <td>-0.000000</td>\n",
       "      <td>-0.000000</td>\n",
       "      <td>-0.000000</td>\n",
       "      <td>-0.000000</td>\n",
       "      <td>-0.000000</td>\n",
       "      <td>-0.000000</td>\n",
       "      <td>-0.000000</td>\n",
       "      <td>0.000000</td>\n",
       "    </tr>\n",
       "    <tr>\n",
       "      <th>1</th>\n",
       "      <td>1</td>\n",
       "      <td>1.0</td>\n",
       "      <td>-133733.943635</td>\n",
       "      <td>-131539.086450</td>\n",
       "      <td>-6371.096917</td>\n",
       "      <td>-144063.160631</td>\n",
       "      <td>54999.961288</td>\n",
       "      <td>-131700.485978</td>\n",
       "      <td>47753.818260</td>\n",
       "      <td>38485.722313</td>\n",
       "      <td>0.002993</td>\n",
       "    </tr>\n",
       "    <tr>\n",
       "      <th>2</th>\n",
       "      <td>2</td>\n",
       "      <td>2.0</td>\n",
       "      <td>-49811.172689</td>\n",
       "      <td>-46441.766220</td>\n",
       "      <td>-55496.160431</td>\n",
       "      <td>-57571.708973</td>\n",
       "      <td>521.059546</td>\n",
       "      <td>-98333.738695</td>\n",
       "      <td>-20709.829539</td>\n",
       "      <td>-32717.961654</td>\n",
       "      <td>0.007032</td>\n",
       "    </tr>\n",
       "    <tr>\n",
       "      <th>3</th>\n",
       "      <td>3</td>\n",
       "      <td>3.0</td>\n",
       "      <td>-105017.499957</td>\n",
       "      <td>-105803.902413</td>\n",
       "      <td>-33016.389667</td>\n",
       "      <td>-104240.338814</td>\n",
       "      <td>30073.062806</td>\n",
       "      <td>-119989.941209</td>\n",
       "      <td>12879.836209</td>\n",
       "      <td>1598.803011</td>\n",
       "      <td>0.010051</td>\n",
       "    </tr>\n",
       "    <tr>\n",
       "      <th>4</th>\n",
       "      <td>4</td>\n",
       "      <td>4.0</td>\n",
       "      <td>-191035.949664</td>\n",
       "      <td>-191928.689828</td>\n",
       "      <td>40018.876501</td>\n",
       "      <td>-193356.172378</td>\n",
       "      <td>84012.637598</td>\n",
       "      <td>-163045.456747</td>\n",
       "      <td>76833.995083</td>\n",
       "      <td>70555.976049</td>\n",
       "      <td>0.013991</td>\n",
       "    </tr>\n",
       "  </tbody>\n",
       "</table>\n",
       "</div>"
      ],
      "text/plain": [
       "   Unnamed: 0  Index            Fp1            Fp2            C3  \\\n",
       "0           0    0.0      -0.000000      -0.000000     -0.000000   \n",
       "1           1    1.0 -133733.943635 -131539.086450  -6371.096917   \n",
       "2           2    2.0  -49811.172689  -46441.766220 -55496.160431   \n",
       "3           3    3.0 -105017.499957 -105803.902413 -33016.389667   \n",
       "4           4    4.0 -191035.949664 -191928.689828  40018.876501   \n",
       "\n",
       "              C4            P7             P8            O1            O2  \\\n",
       "0      -0.000000     -0.000000      -0.000000     -0.000000     -0.000000   \n",
       "1 -144063.160631  54999.961288 -131700.485978  47753.818260  38485.722313   \n",
       "2  -57571.708973    521.059546  -98333.738695 -20709.829539 -32717.961654   \n",
       "3 -104240.338814  30073.062806 -119989.941209  12879.836209   1598.803011   \n",
       "4 -193356.172378  84012.637598 -163045.456747  76833.995083  70555.976049   \n",
       "\n",
       "   Timestamp  \n",
       "0   0.000000  \n",
       "1   0.002993  \n",
       "2   0.007032  \n",
       "3   0.010051  \n",
       "4   0.013991  "
      ]
     },
     "execution_count": 3,
     "metadata": {},
     "output_type": "execute_result"
    }
   ],
   "source": [
    "df = pd.read_csv(f'{files_path}/{files[0]}', delimiter=',')\n",
    "df.head()"
   ]
  },
  {
   "cell_type": "markdown",
   "id": "6d70a995-4533-42a5-879a-3a2e16485b7a",
   "metadata": {},
   "source": [
    "### Canais a serem utilizados"
   ]
  },
  {
   "cell_type": "code",
   "execution_count": 4,
   "id": "110d43a1-4f58-48a1-bf02-0a90aedeea58",
   "metadata": {},
   "outputs": [
    {
     "data": {
      "text/plain": [
       "['Fp1', 'Fp2', 'C3', 'C4', 'P7', 'P8', 'O1', 'O2']"
      ]
     },
     "execution_count": 4,
     "metadata": {},
     "output_type": "execute_result"
    }
   ],
   "source": [
    "channels = df.columns.to_list()[2:10]\n",
    "channels"
   ]
  },
  {
   "cell_type": "markdown",
   "id": "72afb08d-e7a1-46cd-ab18-e35f00bc1c1d",
   "metadata": {},
   "source": [
    "### Plotando os sinais"
   ]
  },
  {
   "cell_type": "code",
   "execution_count": 5,
   "id": "5143c34e-3016-4cfb-b827-858261b8c00a",
   "metadata": {},
   "outputs": [],
   "source": [
    "window_widget = widgets.IntSlider(min=1, max=1000, step=10, value=50)\n",
    "file_widget = widgets.Combobox(options=files, value=files[0], description='Arquivo')\n",
    "channel_widget = widgets.Dropdown(options=channels, value=channels[0], description='Canal')"
   ]
  },
  {
   "cell_type": "code",
   "execution_count": 6,
   "id": "cf1aada0-01da-4f29-bb4d-390ae0393b16",
   "metadata": {},
   "outputs": [],
   "source": [
    "def plot_signal(file, channel, window):\n",
    "    delta = 30\n",
    "    df = pd.read_csv(f'{files_path}/{file}', delimiter=',')\n",
    "    timestamps = df['Timestamp'].to_numpy()\n",
    "    channel_data = df[channel].to_numpy()\n",
    "    moving_average = np.convolve(channel_data, np.ones(512)/512, mode='valid')\n",
    "    first_derivative = 100*(moving_average[:-delta] - moving_average[delta:])/delta\n",
    "    fig = px.line(x=timestamps[:len(first_derivative)], y=[channel_data[:len(first_derivative)], moving_average[:len(first_derivative)], first_derivative])\n",
    "    fig.update_yaxes(range=[moving_average[10]-5E3, moving_average[10]+5E3])\n",
    "    fig.show()"
   ]
  },
  {
   "cell_type": "code",
   "execution_count": 7,
   "id": "a36a7fe9-296a-45a7-a2c2-b4bfb93cc4e8",
   "metadata": {},
   "outputs": [
    {
     "data": {
      "application/vnd.jupyter.widget-view+json": {
       "model_id": "b018884b8de04bf9a74508b41f4c6802",
       "version_major": 2,
       "version_minor": 0
      },
      "text/plain": [
       "VBox(children=(HBox(children=(Combobox(value='alpha_9.csv', description='Arquivo', options=('alpha_9.csv', 'ch…"
      ]
     },
     "metadata": {},
     "output_type": "display_data"
    }
   ],
   "source": [
    "out = widgets.interactive_output(plot_signal, \n",
    "                                 {'file': file_widget, \n",
    "                                  'channel': channel_widget, \n",
    "                                  'window': window_widget})\n",
    "\n",
    "widgets.VBox([widgets.HBox([file_widget, channel_widget, window_widget]), out])"
   ]
  }
 ],
 "metadata": {
  "kernelspec": {
   "display_name": "eeg",
   "language": "python",
   "name": "eeg"
  },
  "language_info": {
   "codemirror_mode": {
    "name": "ipython",
    "version": 3
   },
   "file_extension": ".py",
   "mimetype": "text/x-python",
   "name": "python",
   "nbconvert_exporter": "python",
   "pygments_lexer": "ipython3",
   "version": "3.8.16"
  }
 },
 "nbformat": 4,
 "nbformat_minor": 5
}
